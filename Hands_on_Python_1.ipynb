{
  "nbformat": 4,
  "nbformat_minor": 0,
  "metadata": {
    "colab": {
      "name": "Hands-on_Python_1.ipynb",
      "provenance": [],
      "collapsed_sections": [],
      "authorship_tag": "ABX9TyO54MGqxGKuf/ojIIK+499k",
      "include_colab_link": true
    },
    "kernelspec": {
      "name": "python3",
      "display_name": "Python 3"
    }
  },
  "cells": [
    {
      "cell_type": "markdown",
      "metadata": {
        "id": "view-in-github",
        "colab_type": "text"
      },
      "source": [
        "<a href=\"https://colab.research.google.com/github/Chansikan/Python-tutorial/blob/master/Hands_on_Python_1.ipynb\" target=\"_parent\"><img src=\"https://colab.research.google.com/assets/colab-badge.svg\" alt=\"Open In Colab\"/></a>"
      ]
    },
    {
      "cell_type": "markdown",
      "metadata": {
        "id": "J6eAbi85nuyY",
        "colab_type": "text"
      },
      "source": [
        "# Hands-on Python for machine learning beginners\n",
        "## Task 1: Variable, Object, type, and operator\n",
        "\n",
        "### this is third-level heading!\n",
        "\n",
        "This is a jupyter notebook embedded in Google Colab.\n",
        "\n",
        "구글 코랩에서는 GPU를 하나 무료로 사용할 수 있습니다.\n",
        "\n",
        "이것은 *markdown* 형식으로 작성하는 텍스트 cell 입니다.\n",
        "\n",
        "마크다운은 **편리**합니다.\n",
        "\n",
        "***DISCLAIMER***\n",
        "\n"
      ]
    },
    {
      "cell_type": "markdown",
      "metadata": {
        "id": "AEiVj8YwoqSO",
        "colab_type": "text"
      },
      "source": [
        "### 1-1. 다음과 같은 변수에 원하는 값들을 정수로 할당해보세요.\n",
        "\n",
        "pr_apple = 사과 하나의 값\n",
        "\n",
        "n_apple = 사과 개수\n",
        "\n",
        "pr_orange = 오렌지 하나의 값\n",
        "\n",
        "n_orange = 오렌지 개수\n"
      ]
    },
    {
      "cell_type": "code",
      "metadata": {
        "id": "IOd0d_lKnjG1",
        "colab_type": "code",
        "colab": {}
      },
      "source": [
        "# 이것은 주석입니다; 원하는 문구를 적을 수 있습니다. 코드 실행과는 관계가 없습니다.\n",
        "\n",
        "pr_apple = \n",
        "n_apple = \n",
        "pr_orange = \n",
        "n_orange = \n"
      ],
      "execution_count": 0,
      "outputs": []
    },
    {
      "cell_type": "markdown",
      "metadata": {
        "id": "v9k_BUFwqGWG",
        "colab_type": "text"
      },
      "source": [
        "### 1-2. print 함수 내에 위 변수들을 넣어서, 다음과 같이 출력되도록 해보세요.\n",
        "\n",
        "\"An apple is 1000 won, and I bought 5 apples.\"\n",
        "\n",
        "\"An orange is 500 won, and I bought 10 oranges.\"\n",
        "\n",
        "\"The total amount of money I spent is 10000 won.\""
      ]
    },
    {
      "cell_type": "code",
      "metadata": {
        "id": "ECkh1tAKql1n",
        "colab_type": "code",
        "colab": {}
      },
      "source": [
        "# 다음 코드를 수정해서 사용하세요.\n",
        "\n",
        "print(\"An apple is 1000 won, and I bought 5 apples.\")\n",
        "print(\"An orange is 500 won, and I bought 10 oranges.\")\n",
        "print(\"The total amount of money I spent is 10000 won.\")"
      ],
      "execution_count": 0,
      "outputs": []
    },
    {
      "cell_type": "markdown",
      "metadata": {
        "id": "X-qj_q3KrM0p",
        "colab_type": "text"
      },
      "source": [
        "### 1-3. 변수에 할당된 값들을 원하는 대로 바꾸어서 다시 위 code cell을 실행해보세요."
      ]
    },
    {
      "cell_type": "code",
      "metadata": {
        "id": "dJS30432rXkY",
        "colab_type": "code",
        "colab": {}
      },
      "source": [
        "pr_apple =\n",
        "n_apple =\n",
        "pr_orange =\n",
        "n_orange ="
      ],
      "execution_count": 0,
      "outputs": []
    },
    {
      "cell_type": "markdown",
      "metadata": {
        "id": "Iz1-HRxrrbS6",
        "colab_type": "text"
      },
      "source": [
        "### 1-4. 수중에 있는 돈이 123,456,789원일 때, 사과를 몇 개 살 수 있고 오렌지를 몇 개 살 수 있는지 다음과 같이 출력해 보세요.\n",
        "\n",
        "\"I have 123456789 won in my pocket.\"\n",
        "\n",
        "\"I can buy 123000 apples or 246000 oranges.\"\n"
      ]
    },
    {
      "cell_type": "code",
      "metadata": {
        "id": "OyOV3acqssOD",
        "colab_type": "code",
        "colab": {}
      },
      "source": [
        "money = 123456789\n",
        "\n",
        "print(\"I have 123456789 won in my pocket.\")\n",
        "print(\"I can buy 123000 apples or 246000 oranges.\")"
      ],
      "execution_count": 0,
      "outputs": []
    },
    {
      "cell_type": "markdown",
      "metadata": {
        "id": "quUwOBfOsusM",
        "colab_type": "text"
      },
      "source": [
        "### 1-5. 가게에서 사과를 할인하여 줍니다. 원하는 할인률을 원하는 이름의 변수에 할당하고, 이제 사과를 몇 개 살 수 있는지 다음과 같이 출력해보세요.\n",
        "\n",
        "\"With a discount rate of 30% for apple, now I can buy 176000 apples!\""
      ]
    },
    {
      "cell_type": "code",
      "metadata": {
        "id": "W2zGSswatK6y",
        "colab_type": "code",
        "colab": {}
      },
      "source": [
        "# you can change the name of a variable as you want.\n",
        "dc_rate = \n",
        "\n",
        "print(\"With a discount rate of 30% for apple, now I can buy 176000 apples!\")"
      ],
      "execution_count": 0,
      "outputs": []
    },
    {
      "cell_type": "code",
      "metadata": {
        "id": "IfUfTBr_0hT3",
        "colab_type": "code",
        "colab": {}
      },
      "source": [
        "# Python operators: https://www.w3schools.com/python/python_operators.asp\n",
        "# // is called \"floor division\" (몫)\n",
        "# % is called \"modulus\" (나머지)"
      ],
      "execution_count": 0,
      "outputs": []
    },
    {
      "cell_type": "markdown",
      "metadata": {
        "id": "buZHObGst115",
        "colab_type": "text"
      },
      "source": [
        "### 1-6. 변수 pr_orange와 할인율 변수의 데이터 타입은 무엇인지 출력해서 보여주세요. 또한, pr_orange와 할인율 변수를 더한 값의 데이터 타입은 무엇인가요?"
      ]
    },
    {
      "cell_type": "code",
      "metadata": {
        "id": "8gPDrx_huBu_",
        "colab_type": "code",
        "colab": {}
      },
      "source": [
        ""
      ],
      "execution_count": 0,
      "outputs": []
    }
  ]
}