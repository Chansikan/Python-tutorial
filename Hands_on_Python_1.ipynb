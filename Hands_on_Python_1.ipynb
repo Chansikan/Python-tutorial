{
  "nbformat": 4,
  "nbformat_minor": 0,
  "metadata": {
    "colab": {
      "name": "Hands-on_Python_1.ipynb",
      "provenance": [],
      "collapsed_sections": [],
      "authorship_tag": "ABX9TyOnfByD2UASpqI/XGYQWC5u",
      "include_colab_link": true
    },
    "kernelspec": {
      "name": "python3",
      "display_name": "Python 3"
    }
  },
  "cells": [
    {
      "cell_type": "markdown",
      "metadata": {
        "id": "view-in-github",
        "colab_type": "text"
      },
      "source": [
        "<a href=\"https://colab.research.google.com/github/Chansikan/Python-tutorial/blob/master/Hands_on_Python_1.ipynb\" target=\"_parent\"><img src=\"https://colab.research.google.com/assets/colab-badge.svg\" alt=\"Open In Colab\"/></a>"
      ]
    },
    {
      "cell_type": "markdown",
      "metadata": {
        "id": "J6eAbi85nuyY",
        "colab_type": "text"
      },
      "source": [
        "# Hands-on Python for machine learning beginners\n",
        "## Task 1: Variable, Object, type, and operator\n",
        "\n",
        "### this is third-level heading!\n",
        "\n",
        "This is a jupyter notebook embedded in Google Colab.\n",
        "\n",
        "구글 코랩에서는 GPU를 하나 무료로 사용할 수 있습니다.\n",
        "\n",
        "이것은 *markdown* 형식으로 작성하는 텍스트 cell 입니다.\n",
        "\n",
        "마크다운은 **편리**합니다.\n",
        "\n",
        "***DISCLAIMER***\n",
        "\n"
      ]
    },
    {
      "cell_type": "markdown",
      "metadata": {
        "id": "AEiVj8YwoqSO",
        "colab_type": "text"
      },
      "source": [
        "### 1-1. 다음과 같은 변수에 원하는 값들을 정수로 할당해보세요.\n",
        "\n",
        "pr_apple = 사과 하나의 값\n",
        "\n",
        "n_apple = 사과 개수\n",
        "\n",
        "pr_orange = 오렌지 하나의 값\n",
        "\n",
        "n_orange = 오렌지 개수\n"
      ]
    },
    {
      "cell_type": "code",
      "metadata": {
        "id": "IOd0d_lKnjG1",
        "colab_type": "code",
        "colab": {}
      },
      "source": [
        "# 이것은 주석입니다; 원하는 문구를 적을 수 있습니다. 코드 실행과는 관계가 없습니다.\n",
        "\n",
        "pr_apple = 1000\n",
        "n_apple = 5\n",
        "pr_orange = 500\n",
        "n_orange = 10\n"
      ],
      "execution_count": 0,
      "outputs": []
    },
    {
      "cell_type": "markdown",
      "metadata": {
        "id": "v9k_BUFwqGWG",
        "colab_type": "text"
      },
      "source": [
        "### 1-2. print 함수 내에 위 변수들을 넣어서, 다음과 같이 출력되도록 해보세요.\n",
        "\n",
        "\"An apple is 1000 won, and I bought 5 apples.\"\n",
        "\n",
        "\"An orange is 500 won, and I bought 10 oranges.\"\n",
        "\n",
        "\"The total amount of money I spent is 10000 won.\""
      ]
    },
    {
      "cell_type": "code",
      "metadata": {
        "id": "ECkh1tAKql1n",
        "colab_type": "code",
        "colab": {
          "base_uri": "https://localhost:8080/",
          "height": 68
        },
        "outputId": "d2e2dc3a-5c4c-422c-b7f8-fc25a8b319e3"
      },
      "source": [
        "print(\"An apple is\", pr_apple, \"won, and I bought\", n_apple, \"apples.\")\n",
        "print(\"An orange is\", pr_orange, \"won, and I bought\", n_orange, \"oranges.\")\n",
        "print(\"The total amount of money I spent is\",\n",
        "      pr_apple * n_apple + pr_orange * n_orange, \"won.\")"
      ],
      "execution_count": 3,
      "outputs": [
        {
          "output_type": "stream",
          "text": [
            "An apple is 1000 won, and I bought 5 apples.\n",
            "An orange is 500 won, and I bought 10 oranges.\n",
            "The total amount of money I spent is 10000 won.\n"
          ],
          "name": "stdout"
        }
      ]
    },
    {
      "cell_type": "markdown",
      "metadata": {
        "id": "X-qj_q3KrM0p",
        "colab_type": "text"
      },
      "source": [
        "### 1-3. 변수에 할당된 값들을 원하는 대로 바꾸어서 다시 위 code cell을 실행해보세요."
      ]
    },
    {
      "cell_type": "code",
      "metadata": {
        "id": "dJS30432rXkY",
        "colab_type": "code",
        "colab": {}
      },
      "source": [
        "pr_apple = 800\n",
        "n_apple = 6\n",
        "pr_orange = 550\n",
        "n_orange = 7"
      ],
      "execution_count": 0,
      "outputs": []
    },
    {
      "cell_type": "markdown",
      "metadata": {
        "id": "Iz1-HRxrrbS6",
        "colab_type": "text"
      },
      "source": [
        "### 1-4. 수중에 있는 돈이 123,456,789원일 때, 사과를 몇 개 살 수 있고 오렌지를 몇 개 살 수 있는지 다음과 같이 출력해 보세요.\n",
        "\n",
        "\"I have 123456789 won in my pocket.\"\n",
        "\n",
        "\"I can buy 123000 apples or 246000 oranges.\"\n"
      ]
    },
    {
      "cell_type": "code",
      "metadata": {
        "id": "OyOV3acqssOD",
        "colab_type": "code",
        "colab": {
          "base_uri": "https://localhost:8080/",
          "height": 51
        },
        "outputId": "68b0c7d6-beab-4c6e-8129-c66227292c97"
      },
      "source": [
        "money = 123456789\n",
        "\n",
        "print(\"I have\", money, \"won in my pocket.\")\n",
        "print(\"I can buy\", money//pr_apple, \"apples or\", money//pr_orange, \"oranges.\")"
      ],
      "execution_count": 7,
      "outputs": [
        {
          "output_type": "stream",
          "text": [
            "I have 123456789 won in my pocket.\n",
            "I can buy 154320 apples or 224466 oranges.\n"
          ],
          "name": "stdout"
        }
      ]
    },
    {
      "cell_type": "markdown",
      "metadata": {
        "id": "quUwOBfOsusM",
        "colab_type": "text"
      },
      "source": [
        "### 1-5. 가게에서 사과를 할인하여 줍니다. 원하는 할인률을 원하는 이름의 변수에 할당하고, 이제 사과를 몇 개 살 수 있는지 다음과 같이 출력해보세요.\n",
        "\n",
        "\"With a discount rate of 30% for apple, now I can buy 176000 apples!\""
      ]
    },
    {
      "cell_type": "code",
      "metadata": {
        "id": "W2zGSswatK6y",
        "colab_type": "code",
        "colab": {
          "base_uri": "https://localhost:8080/",
          "height": 34
        },
        "outputId": "12082580-0881-44d0-c725-fd4c8ddb22fa"
      },
      "source": [
        "# you can change the name of a variable as you want.\n",
        "dc_rate = 0.3\n",
        "\n",
        "print(\"With a discount rate of\", dc_rate*100, \n",
        "      \"% for apple, now I can buy\", int(money//pr_apple*(1-dc_rate)), \"apples!\")"
      ],
      "execution_count": 10,
      "outputs": [
        {
          "output_type": "stream",
          "text": [
            "With a discount rate of 30.0 % for apple, now I can buy 108024 apples!\n"
          ],
          "name": "stdout"
        }
      ]
    },
    {
      "cell_type": "code",
      "metadata": {
        "id": "IfUfTBr_0hT3",
        "colab_type": "code",
        "colab": {}
      },
      "source": [
        "# Python operators: https://www.w3schools.com/python/python_operators.asp\n",
        "# // is called \"floor division\" (몫)\n",
        "# % is called \"modulus\" (나머지)"
      ],
      "execution_count": 0,
      "outputs": []
    },
    {
      "cell_type": "markdown",
      "metadata": {
        "id": "buZHObGst115",
        "colab_type": "text"
      },
      "source": [
        "### 1-6. 변수 pr_orange와 할인율 변수의 데이터 타입은 무엇인지 출력해서 보여주세요. 또한, pr_orange와 할인율 변수를 더한 값의 데이터 타입은 무엇인가요?"
      ]
    },
    {
      "cell_type": "code",
      "metadata": {
        "id": "8gPDrx_huBu_",
        "colab_type": "code",
        "colab": {
          "base_uri": "https://localhost:8080/",
          "height": 34
        },
        "outputId": "c1f5fab7-2453-44e5-c551-18bf126fc3fe"
      },
      "source": [
        "print(type(pr_orange), type(pr_orange + dc_rate))"
      ],
      "execution_count": 12,
      "outputs": [
        {
          "output_type": "stream",
          "text": [
            "<class 'int'> <class 'float'>\n"
          ],
          "name": "stdout"
        }
      ]
    }
  ]
}