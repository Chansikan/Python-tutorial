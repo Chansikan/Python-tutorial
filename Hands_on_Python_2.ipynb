{
  "nbformat": 4,
  "nbformat_minor": 0,
  "metadata": {
    "colab": {
      "name": "Hands-on_Python_2.ipynb",
      "provenance": [],
      "collapsed_sections": [],
      "authorship_tag": "ABX9TyO7/2uEpeXqBJkP9nd8w52e",
      "include_colab_link": true
    },
    "kernelspec": {
      "name": "python3",
      "display_name": "Python 3"
    }
  },
  "cells": [
    {
      "cell_type": "markdown",
      "metadata": {
        "id": "view-in-github",
        "colab_type": "text"
      },
      "source": [
        "<a href=\"https://colab.research.google.com/github/Chansikan/Python-tutorial/blob/master/Hands_on_Python_2.ipynb\" target=\"_parent\"><img src=\"https://colab.research.google.com/assets/colab-badge.svg\" alt=\"Open In Colab\"/></a>"
      ]
    },
    {
      "cell_type": "markdown",
      "metadata": {
        "id": "i4sl0PXXwLZX",
        "colab_type": "text"
      },
      "source": [
        "# Hands-on Python for machine learning beginners\n",
        "## Task 2: List\n"
      ]
    },
    {
      "cell_type": "markdown",
      "metadata": {
        "id": "mRyNCqqVwPOS",
        "colab_type": "text"
      },
      "source": [
        "### 2-1. 자신이 좋아하는 과일 3개 이상을 아이템으로 갖는 리스트를 하나 만들어서 favorite_fruits 이라는 변수에, 좋아하는 야채 3개 이상을 아이템으로 갖는 리스트를 만들어서 favorite_vegetables 이라는 변수에, 각각 할당해보세요. 리스트를 만들 때 좋아하는 순서대로 아이템을 나열하세요."
      ]
    },
    {
      "cell_type": "code",
      "metadata": {
        "id": "hHyzdQcIwKrM",
        "colab_type": "code",
        "colab": {}
      },
      "source": [
        "# 리스트, 튜플, 레인지(range), 문자열(string)을 \n",
        "# 순서가 있는 \"시퀀스 타입(sequence type)\" 자료형이라고 합니다.\n",
        "\n",
        "favorite_fruits = ['apple', 'banana', 'peach']\n",
        "\n",
        "favorite_vegetables = ['tomato', 'cucumber', 'broccoli']\n"
      ],
      "execution_count": 0,
      "outputs": []
    },
    {
      "cell_type": "markdown",
      "metadata": {
        "id": "WPseBp2YwyKZ",
        "colab_type": "text"
      },
      "source": [
        "### 2-2. 만든 리스트 두개를 아이템으로 갖는 favorite_foods 라는 이름을 가진 리스트를 만들어 보세요."
      ]
    },
    {
      "cell_type": "code",
      "metadata": {
        "id": "FgsRz8Www5EJ",
        "colab_type": "code",
        "colab": {
          "base_uri": "https://localhost:8080/",
          "height": 34
        },
        "outputId": "c05e71d9-017e-4ced-beed-7d04d93b52af"
      },
      "source": [
        "# 즉, nested list를 만드는 것입니다.\n",
        "\n",
        "favorite_foods = [favorite_fruits, favorite_vegetables]\n",
        "\n",
        "favorite_foods # 마지막 오브젝트는 자동으로 print"
      ],
      "execution_count": 2,
      "outputs": [
        {
          "output_type": "execute_result",
          "data": {
            "text/plain": [
              "[['apple', 'banana', 'peach'], ['tomato', 'cucumber', 'broccoli']]"
            ]
          },
          "metadata": {
            "tags": []
          },
          "execution_count": 2
        }
      ]
    },
    {
      "cell_type": "markdown",
      "metadata": {
        "id": "41XqCMw6w7mn",
        "colab_type": "text"
      },
      "source": [
        "### 2-3. 만든 리스트(favoite_foods)에 제일 좋아하는 음식 한 가지를 마지막 아이템으로 추가해보세요."
      ]
    },
    {
      "cell_type": "code",
      "metadata": {
        "id": "CDBx62P_xIn2",
        "colab_type": "code",
        "colab": {
          "base_uri": "https://localhost:8080/",
          "height": 68
        },
        "outputId": "60f8f821-3373-4e20-ecdc-2f0a6da263e4"
      },
      "source": [
        "favorite_foods.append('gamja-tang')\n",
        "\n",
        "favorite_foods"
      ],
      "execution_count": 3,
      "outputs": [
        {
          "output_type": "execute_result",
          "data": {
            "text/plain": [
              "[['apple', 'banana', 'peach'],\n",
              " ['tomato', 'cucumber', 'broccoli'],\n",
              " 'gamja-tang']"
            ]
          },
          "metadata": {
            "tags": []
          },
          "execution_count": 3
        }
      ]
    },
    {
      "cell_type": "markdown",
      "metadata": {
        "id": "Ls3qTqbVxKrQ",
        "colab_type": "text"
      },
      "source": [
        "### 2-4. favorite_foods 리스트에 indexer (i.e, [ ])를 사용하여 좋아하는 과일들 리스트를 출력해보세요. (***favorite_fruits 리스트를 직접 출력해서는 안됩니다***)"
      ]
    },
    {
      "cell_type": "code",
      "metadata": {
        "id": "KJB6KNxCxhIk",
        "colab_type": "code",
        "colab": {
          "base_uri": "https://localhost:8080/",
          "height": 34
        },
        "outputId": "ab5ee06e-3dca-40e9-ae48-5dc1bbb45d7c"
      },
      "source": [
        "favorite_foods[0]"
      ],
      "execution_count": 4,
      "outputs": [
        {
          "output_type": "execute_result",
          "data": {
            "text/plain": [
              "['apple', 'banana', 'peach']"
            ]
          },
          "metadata": {
            "tags": []
          },
          "execution_count": 4
        }
      ]
    },
    {
      "cell_type": "markdown",
      "metadata": {
        "id": "0yY-hBq7xhdx",
        "colab_type": "text"
      },
      "source": [
        "### 2-5. ***제일 좋아하는 과일***을, (1) favorite_fruits 리스트에 인덱서를 사용해서, 그리고 (2) favorite_foods 리스트에 인덱서를 사용해서 각각 출력해보세요."
      ]
    },
    {
      "cell_type": "code",
      "metadata": {
        "id": "2_MKQsoixv5p",
        "colab_type": "code",
        "colab": {
          "base_uri": "https://localhost:8080/",
          "height": 85
        },
        "outputId": "c9b6b65a-403c-46a4-ae17-e40a3d8b7536"
      },
      "source": [
        "# (1) favorite_fruits 리스트에 인덱서를 사용\n",
        "print(\"Using an indexer on favorite_fruits: \")\n",
        "print(favorite_fruits[2])\n",
        "\n",
        "# (2) favorite_foods 리스트에 인덱서를 사용\n",
        "print(\"Using an indexer on favorite_foods: \")\n",
        "print(favorite_foods[0][2])"
      ],
      "execution_count": 6,
      "outputs": [
        {
          "output_type": "stream",
          "text": [
            "Using an indexer on favorite_fruits: \n",
            "peach\n",
            "Using an indexer on favorite_foods: \n",
            "peach\n"
          ],
          "name": "stdout"
        }
      ]
    },
    {
      "cell_type": "markdown",
      "metadata": {
        "id": "lo8NFpCgyKS8",
        "colab_type": "text"
      },
      "source": [
        "### 2-6. favorite_fruits와 favorite_vegetables 리스트를 합쳐서 하나의 리스트 favorite_fruits_vegetables 를 만들어 보세요."
      ]
    },
    {
      "cell_type": "code",
      "metadata": {
        "id": "kK8CuXBpyZcf",
        "colab_type": "code",
        "colab": {
          "base_uri": "https://localhost:8080/",
          "height": 34
        },
        "outputId": "1e7f9449-8c4b-4bc2-f29f-c926724fc5fe"
      },
      "source": [
        "favorite_fruits_vegetables = favorite_fruits + favorite_vegetables\n",
        "\n",
        "print(favorite_fruits_vegetables)"
      ],
      "execution_count": 8,
      "outputs": [
        {
          "output_type": "stream",
          "text": [
            "['apple', 'banana', 'peach', 'tomato', 'cucumber', 'broccoli']\n"
          ],
          "name": "stdout"
        }
      ]
    },
    {
      "cell_type": "markdown",
      "metadata": {
        "id": "JCDRBxqTydb3",
        "colab_type": "text"
      },
      "source": [
        "### 2-7. favorite_fruits_vegetables 리스트에서, 가장 덜 좋아하는 항목 하나를 리스트에서 제외(빼) 봅니다. "
      ]
    },
    {
      "cell_type": "code",
      "metadata": {
        "id": "ehFUBcIJy3BO",
        "colab_type": "code",
        "colab": {
          "base_uri": "https://localhost:8080/",
          "height": 34
        },
        "outputId": "527b93d1-943e-4a17-c418-0fa70ee5b260"
      },
      "source": [
        "# remove method  \n",
        "favorite_fruits_vegetables.remove('broccoli')\n",
        "favorite_fruits_vegetables\n",
        "\n",
        "# pop method (don't forget copy the list before doing this)\n",
        "# also mention the concept of 'in-place'"
      ],
      "execution_count": 9,
      "outputs": [
        {
          "output_type": "execute_result",
          "data": {
            "text/plain": [
              "['apple', 'banana', 'peach', 'tomato', 'cucumber']"
            ]
          },
          "metadata": {
            "tags": []
          },
          "execution_count": 9
        }
      ]
    },
    {
      "cell_type": "markdown",
      "metadata": {
        "id": "0RlD0TIW2QZE",
        "colab_type": "text"
      },
      "source": [
        "### 2-8. 좋아하는 과일들을, 다음과 같이 좋아하는 순서대로 출력해보고 역순으로 출력해보세요. 리스트를 iterable object로 하여 for loop을 사용하세요.\n",
        "\n",
        "예) [a, b, c, d] \n",
        "\n",
        "(1) 좋아하는 순서대로 출력\n",
        "\n",
        "a \n",
        "\n",
        "b\n",
        "\n",
        "c\n",
        "\n",
        "d\n",
        "\n",
        "(2) 덜 좋아하는 순서대로 출력\n",
        "\n",
        "d\n",
        "\n",
        "c\n",
        "\n",
        "b\n",
        "\n",
        "a\n"
      ]
    },
    {
      "cell_type": "code",
      "metadata": {
        "id": "lYJNYF_q2Moj",
        "colab_type": "code",
        "colab": {
          "base_uri": "https://localhost:8080/",
          "height": 68
        },
        "outputId": "c462ac33-aa3c-4fc1-fd24-8735326e4ed2"
      },
      "source": [
        "# (1) right order\n",
        "for fruit in favorite_fruits:\n",
        "  print(fruit)"
      ],
      "execution_count": 10,
      "outputs": [
        {
          "output_type": "stream",
          "text": [
            "apple\n",
            "banana\n",
            "peach\n"
          ],
          "name": "stdout"
        }
      ]
    },
    {
      "cell_type": "code",
      "metadata": {
        "id": "sDy30u_v6D4e",
        "colab_type": "code",
        "colab": {
          "base_uri": "https://localhost:8080/",
          "height": 68
        },
        "outputId": "4e972d92-4092-47a0-eb70-2ce46ddd92b3"
      },
      "source": [
        "# (2) reverse order\n",
        "# .pop(), reversed()\n",
        "for fruit in reversed(favorite_fruits):\n",
        "  print(fruit)"
      ],
      "execution_count": 11,
      "outputs": [
        {
          "output_type": "stream",
          "text": [
            "peach\n",
            "banana\n",
            "apple\n"
          ],
          "name": "stdout"
        }
      ]
    }
  ]
}