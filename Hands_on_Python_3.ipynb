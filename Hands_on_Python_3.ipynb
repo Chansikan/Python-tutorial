{
  "nbformat": 4,
  "nbformat_minor": 0,
  "metadata": {
    "colab": {
      "name": "Hands-on_Python_3.ipynb",
      "provenance": [],
      "collapsed_sections": [],
      "authorship_tag": "ABX9TyNK4ZuHrguKjA6ComETe0kh",
      "include_colab_link": true
    },
    "kernelspec": {
      "name": "python3",
      "display_name": "Python 3"
    }
  },
  "cells": [
    {
      "cell_type": "markdown",
      "metadata": {
        "id": "view-in-github",
        "colab_type": "text"
      },
      "source": [
        "<a href=\"https://colab.research.google.com/github/Chansikan/Python-tutorial/blob/master/Hands_on_Python_3.ipynb\" target=\"_parent\"><img src=\"https://colab.research.google.com/assets/colab-badge.svg\" alt=\"Open In Colab\"/></a>"
      ]
    },
    {
      "cell_type": "markdown",
      "metadata": {
        "id": "9m9y_uy28peK",
        "colab_type": "text"
      },
      "source": [
        "# Hands-on Python for machine learning beginners\n",
        "## Task 3: Dictionary"
      ]
    },
    {
      "cell_type": "markdown",
      "metadata": {
        "id": "QqBZfyAb9aBG",
        "colab_type": "text"
      },
      "source": [
        "### 3-1. 무슨 종류이든, 자신이 좋아하는 것들 2종 세트를 담은 딕셔너리를 만들어 보세요. 각 종류를 key로, 그 종류에 해당하는 좋아하는 것들을 담은 리스트가 value가 되도록 합니다.\n",
        "\n",
        "예) 제가 좋아하는 과일과 야채 리스트 모음\n",
        "\n",
        "    my_dict = {'fruits': ['peach', 'plum', 'strawberry'],\n",
        "               'vegetables': ['tomato', 'cucumber', 'brocolli']}"
      ]
    },
    {
      "cell_type": "code",
      "metadata": {
        "id": "ksvpSmJX8o72",
        "colab_type": "code",
        "colab": {
          "base_uri": "https://localhost:8080/",
          "height": 34
        },
        "outputId": "0eb78ce5-d27c-4dbe-887d-a186c88f6db5"
      },
      "source": [
        "# 다음 중 한 가지 방법을 선택하시면 됩니다.\n",
        "# 모든 오브젝트 이름은 원하는 대로 바꾸세요.\n",
        "\n",
        "# 방법 1\n",
        "my_dict = {\n",
        "    'fruits': ['peach', 'plum', 'strawberry'],\n",
        "    'vegetables': ['tomato', 'cucumber', 'brocolli']\n",
        "}\n",
        "\n",
        "# 방법 2\n",
        "#your_dict = dict(key_1=[], key_2=[])\n",
        "\n",
        "# 방법 3\n",
        "#your_dict = dict( [ ('key_1', []), ('key_2', []) ] )\n",
        "\n",
        "\n",
        "print(my_dict)"
      ],
      "execution_count": 2,
      "outputs": [
        {
          "output_type": "stream",
          "text": [
            "{'fruits': ['peach', 'plum', 'strawberry'], 'vegetables': ['tomato', 'cucumber', 'brocolli']}\n"
          ],
          "name": "stdout"
        }
      ]
    },
    {
      "cell_type": "markdown",
      "metadata": {
        "id": "6ddD9fizAWm7",
        "colab_type": "text"
      },
      "source": [
        "### 3-2. 만든 딕셔너리에서, 한 종류의 리스트를 추출해서 출력해보세요."
      ]
    },
    {
      "cell_type": "code",
      "metadata": {
        "id": "iroqOrIvAWK_",
        "colab_type": "code",
        "colab": {
          "base_uri": "https://localhost:8080/",
          "height": 34
        },
        "outputId": "8a03a6b7-8358-49a1-fb93-5de7ecd3971d"
      },
      "source": [
        "my_dict['fruits']"
      ],
      "execution_count": 3,
      "outputs": [
        {
          "output_type": "execute_result",
          "data": {
            "text/plain": [
              "['peach', 'plum', 'strawberry']"
            ]
          },
          "metadata": {
            "tags": []
          },
          "execution_count": 3
        }
      ]
    },
    {
      "cell_type": "markdown",
      "metadata": {
        "id": "R21nhHw8Atdf",
        "colab_type": "text"
      },
      "source": [
        "### 3-3. 새로운 딕셔너리 하나를 추가해 보세요. 예를 들어, 제가 좋아하는 음악들 리스트를 값으로 가진 딕셔너리는 다음과 같습니다. 추가한다면 다음과 같이 될 것입니다.\n",
        "\n",
        "    another_dict = {'music': ['classical', 'blues', 'rock']}"
      ]
    },
    {
      "cell_type": "code",
      "metadata": {
        "id": "JnRjscOgAt2M",
        "colab_type": "code",
        "colab": {}
      },
      "source": [
        "another_dict = {'music': ['classical', 'blues', 'rock']}"
      ],
      "execution_count": 0,
      "outputs": []
    },
    {
      "cell_type": "markdown",
      "metadata": {
        "id": "3yTh_tJZs4dS",
        "colab_type": "text"
      },
      "source": [
        "### 3-4. 기존의 딕셔너리와 새로운 딕셔너리를 합해보세요. 저의 경우는 다음과 같이 될 것입니다.\n",
        "\n",
        "    my_dict = {'fruits': ['peach', 'plum', 'strawberry'],\n",
        "               'vegetables': ['tomato', 'cucumber', 'brocolli'],\n",
        "               'music': ['classical', 'blues', 'rock']}"
      ]
    },
    {
      "cell_type": "code",
      "metadata": {
        "id": "p1KY6J6OtVER",
        "colab_type": "code",
        "colab": {
          "base_uri": "https://localhost:8080/",
          "height": 68
        },
        "outputId": "90453ea1-1dae-4fcd-c2a7-cb17871df4d9"
      },
      "source": [
        "# HINT: you may want to use 'update' method.\n",
        "my_dict.update(another_dict)\n",
        "\n",
        "my_dict"
      ],
      "execution_count": 5,
      "outputs": [
        {
          "output_type": "execute_result",
          "data": {
            "text/plain": [
              "{'fruits': ['peach', 'plum', 'strawberry'],\n",
              " 'music': ['classical', 'blues', 'rock'],\n",
              " 'vegetables': ['tomato', 'cucumber', 'brocolli']}"
            ]
          },
          "metadata": {
            "tags": []
          },
          "execution_count": 5
        }
      ]
    },
    {
      "cell_type": "markdown",
      "metadata": {
        "id": "tWo6tCjVBT0m",
        "colab_type": "text"
      },
      "source": [
        "### 3-5. 만든 딕셔너리를 iterable object로 해서 for loop을 돌리고 항목을 출력해봅시다.\n",
        "\n",
        "예) 아래 코드에서 'your_dict' 부분이 iterable object입니다.\n",
        "\n",
        "    for i in your_dict:\n",
        "      print(i)\n",
        "\n",
        "\n",
        "[NOTE] Dictionary는 소위 'mapping type' 자료형으로, 원칙적으로는 순서가 없습니다. 그러나 Python 3.7부터는 dictionary도 순서대로 자료를 처리하기 때문에 위와 같이 iterable object로 쓸 수 있습니다. 그러나 여전히 sequence type이 아니기 때문에, integer indexing, slicing은 적용할 수 없습니다. "
      ]
    },
    {
      "cell_type": "code",
      "metadata": {
        "id": "CTMyo6QCDq4i",
        "colab_type": "code",
        "colab": {
          "base_uri": "https://localhost:8080/",
          "height": 68
        },
        "outputId": "503606d0-55e5-473e-809a-3eefcbbef981"
      },
      "source": [
        "for i in my_dict:\n",
        "  print(i)"
      ],
      "execution_count": 6,
      "outputs": [
        {
          "output_type": "stream",
          "text": [
            "fruits\n",
            "vegetables\n",
            "music\n"
          ],
          "name": "stdout"
        }
      ]
    },
    {
      "cell_type": "markdown",
      "metadata": {
        "id": "yM6cgyu_E3tf",
        "colab_type": "text"
      },
      "source": [
        "### 3-6. 메소드 keys(), values(), 혹은 items()와 for loop을 이용해서 다음과 같이 출력해보세요(이 메소드들 중 하나만 이용해도 되고 여러 개 이용하셔도 됩니다).\n",
        "\n",
        "예)\n",
        "\n",
        "My favorite fruits: \n",
        "\n",
        "  peach\n",
        "\n",
        "  plum\n",
        "\n",
        "  strawberry\n",
        "\n",
        "My favorite vegetables: \n",
        "\n",
        "  tomato\n",
        "\n",
        "  cucumber\n",
        "\n",
        "  brocoli\n",
        "\n",
        "My favorite music:\n",
        "\n",
        "classical\n",
        "  \n",
        "blues\n",
        "\n",
        "rock"
      ]
    },
    {
      "cell_type": "code",
      "metadata": {
        "id": "EYHgk6v-EIMV",
        "colab_type": "code",
        "colab": {
          "base_uri": "https://localhost:8080/",
          "height": 221
        },
        "outputId": "cdb52b36-2169-4b76-f208-faae7939a87e"
      },
      "source": [
        "# .keys() + .values()\n",
        "for k in my_dict.keys():\n",
        "  print(\"My favorite \" , k, \": \", sep=\"\")\n",
        "\n",
        "  for v in my_dict[k]:\n",
        "    print(v)"
      ],
      "execution_count": 11,
      "outputs": [
        {
          "output_type": "stream",
          "text": [
            "My favorite fruits: \n",
            "peach\n",
            "plum\n",
            "strawberry\n",
            "My favorite vegetables: \n",
            "tomato\n",
            "cucumber\n",
            "brocolli\n",
            "My favorite music: \n",
            "classical\n",
            "blues\n",
            "rock\n"
          ],
          "name": "stdout"
        }
      ]
    },
    {
      "cell_type": "code",
      "metadata": {
        "id": "mYZQC1gdX1_t",
        "colab_type": "code",
        "colab": {
          "base_uri": "https://localhost:8080/",
          "height": 221
        },
        "outputId": "92897f47-5432-404e-ad33-a7a034740708"
      },
      "source": [
        "# .items()\n",
        "for k, v in my_dict.items():\n",
        "  print(\"My favorite \", k, \": \", sep=\"\")\n",
        "  for i in v:\n",
        "    print(i)"
      ],
      "execution_count": 13,
      "outputs": [
        {
          "output_type": "stream",
          "text": [
            "My favorite fruits: \n",
            "peach\n",
            "plum\n",
            "strawberry\n",
            "My favorite vegetables: \n",
            "tomato\n",
            "cucumber\n",
            "brocolli\n",
            "My favorite music: \n",
            "classical\n",
            "blues\n",
            "rock\n"
          ],
          "name": "stdout"
        }
      ]
    },
    {
      "cell_type": "markdown",
      "metadata": {
        "id": "qhjNPZ3QcWbG",
        "colab_type": "text"
      },
      "source": [
        "### 3-7. 1) 현재 딕셔너리를 두 개의 딕셔너리로 나누고, 이 두 딕셔너리를 항목으로 갖는 nested 딕셔너리를 만들어보세요; 2) 이 nested dictionary에서 항목 한 가지만 추출해보세요.\n",
        "\n",
        "예)\n",
        "\n",
        "    dict_food = {'fruits': ['peach', 'plum', 'strawberry'],\n",
        "                'vegetables': ['tomato', 'cucumber', 'brocolli']}\n",
        "    dict_other = {'music': ['classical', 'blues', 'rock']}\n",
        "    my_nested_dict = {'food': dict_food, 'other': dict_other}"
      ]
    },
    {
      "cell_type": "code",
      "metadata": {
        "id": "f2M2QfMVel9t",
        "colab_type": "code",
        "colab": {
          "base_uri": "https://localhost:8080/",
          "height": 68
        },
        "outputId": "98bd629e-bd45-4785-8e17-c4c17ad3cb9c"
      },
      "source": [
        "# You can simply copy&paste or use pop() method.\n",
        "dict_food = {'fruits': ['peach', 'plum', 'strawberry'],\n",
        "            'vegetables': ['tomato', 'cucumber', 'brocolli']}\n",
        "dict_other = {'music': ['classical', 'blues', 'rock']}\n",
        "my_nested_dict = {'food': dict_food, 'other': dict_other}\n",
        "\n",
        "my_nested_dict"
      ],
      "execution_count": 14,
      "outputs": [
        {
          "output_type": "execute_result",
          "data": {
            "text/plain": [
              "{'food': {'fruits': ['peach', 'plum', 'strawberry'],\n",
              "  'vegetables': ['tomato', 'cucumber', 'brocolli']},\n",
              " 'other': {'music': ['classical', 'blues', 'rock']}}"
            ]
          },
          "metadata": {
            "tags": []
          },
          "execution_count": 14
        }
      ]
    },
    {
      "cell_type": "code",
      "metadata": {
        "id": "jzV-vv_Dukp1",
        "colab_type": "code",
        "colab": {
          "base_uri": "https://localhost:8080/",
          "height": 34
        },
        "outputId": "d03e8e28-67f1-4747-955b-72fbdb7b6469"
      },
      "source": [
        "# Show us just one item you like the best!\n",
        "my_nested_dict['food']['fruits'][0]"
      ],
      "execution_count": 15,
      "outputs": [
        {
          "output_type": "execute_result",
          "data": {
            "text/plain": [
              "'peach'"
            ]
          },
          "metadata": {
            "tags": []
          },
          "execution_count": 15
        }
      ]
    }
  ]
}