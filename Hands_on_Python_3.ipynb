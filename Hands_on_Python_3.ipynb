{
  "nbformat": 4,
  "nbformat_minor": 0,
  "metadata": {
    "colab": {
      "name": "Hands-on_Python_3.ipynb",
      "provenance": [],
      "collapsed_sections": [],
      "authorship_tag": "ABX9TyMc7TPEDKiFqj3iWoyPi53C",
      "include_colab_link": true
    },
    "kernelspec": {
      "name": "python3",
      "display_name": "Python 3"
    }
  },
  "cells": [
    {
      "cell_type": "markdown",
      "metadata": {
        "id": "view-in-github",
        "colab_type": "text"
      },
      "source": [
        "<a href=\"https://colab.research.google.com/github/Chansikan/Python-tutorial/blob/master/Hands_on_Python_3.ipynb\" target=\"_parent\"><img src=\"https://colab.research.google.com/assets/colab-badge.svg\" alt=\"Open In Colab\"/></a>"
      ]
    },
    {
      "cell_type": "markdown",
      "metadata": {
        "id": "9m9y_uy28peK",
        "colab_type": "text"
      },
      "source": [
        "# Hands-on Python for machine learning beginners\n",
        "## Task 3: Dictionary"
      ]
    },
    {
      "cell_type": "markdown",
      "metadata": {
        "id": "QqBZfyAb9aBG",
        "colab_type": "text"
      },
      "source": [
        "### 3-1. 무슨 종류이든, 자신이 좋아하는 것들 2종 세트를 담은 딕셔너리를 만들어 보세요. 각 종류를 key로, 그 종류에 해당하는 좋아하는 것들을 담은 리스트가 value가 되도록 합니다.\n",
        "\n",
        "예) 제가 좋아하는 과일과 야채 리스트 모음\n",
        "\n",
        "    my_dict = {'fruits': ['peach', 'plum', 'strawberry'],\n",
        "               'vegetables': ['tomato', 'cucumber', 'brocolli']}"
      ]
    },
    {
      "cell_type": "code",
      "metadata": {
        "id": "ksvpSmJX8o72",
        "colab_type": "code",
        "colab": {}
      },
      "source": [
        "# 다음 중 한 가지 방법을 선택하시면 됩니다.\n",
        "# 모든 오브젝트 이름은 원하는 대로 바꾸세요.\n",
        "\n",
        "# 방법 1\n",
        "your_dict = {\n",
        "    'key_1': [],\n",
        "    'key_2': [],\n",
        "}\n",
        "\n",
        "# 방법 2\n",
        "your_dict = dict(key_1=[], key_2=[])\n",
        "\n",
        "# 방법 3\n",
        "your_dict = dict( [ ('key_1', []), \n",
        "                    ('key_2', []) ] )\n",
        "\n",
        "print(your_dict)"
      ],
      "execution_count": 0,
      "outputs": []
    },
    {
      "cell_type": "markdown",
      "metadata": {
        "id": "6ddD9fizAWm7",
        "colab_type": "text"
      },
      "source": [
        "### 3-2. 만든 딕셔너리에서, 한 종류의 리스트를 추출해서 출력해보세요."
      ]
    },
    {
      "cell_type": "code",
      "metadata": {
        "id": "iroqOrIvAWK_",
        "colab_type": "code",
        "colab": {}
      },
      "source": [
        ""
      ],
      "execution_count": 0,
      "outputs": []
    },
    {
      "cell_type": "markdown",
      "metadata": {
        "id": "R21nhHw8Atdf",
        "colab_type": "text"
      },
      "source": [
        "### 3-3. 새로운 딕셔너리 하나를 추가해 보세요. 예를 들어, 제가 좋아하는 음악들 리스트를 값으로 가진 딕셔너리는 다음과 같습니다. 추가한다면 다음과 같이 될 것입니다.\n",
        "\n",
        "    another_dict = {'music': ['classical', 'blues', 'rock']}"
      ]
    },
    {
      "cell_type": "code",
      "metadata": {
        "id": "JnRjscOgAt2M",
        "colab_type": "code",
        "colab": {}
      },
      "source": [
        "my_dict = {'fruits': ['peach', 'plum', 'strawberry'],\n",
        "           'vegetables': ['tomato', 'cucumber', 'brocolli']}\n",
        "\n",
        "another_dict = {'music': ['classical', 'blues', 'rock']}"
      ],
      "execution_count": 0,
      "outputs": []
    },
    {
      "cell_type": "markdown",
      "metadata": {
        "id": "3yTh_tJZs4dS",
        "colab_type": "text"
      },
      "source": [
        "### 3-4. 기존의 딕셔너리와 새로운 딕셔너리를 합해보세요. 저의 경우는 다음과 같이 될 것입니다.\n",
        "\n",
        "    my_dict = {'fruits': ['peach', 'plum', 'strawberry'],\n",
        "               'vegetables': ['tomato', 'cucumber', 'brocolli'],\n",
        "               'music': ['classical', 'blues', 'rock']}"
      ]
    },
    {
      "cell_type": "code",
      "metadata": {
        "id": "p1KY6J6OtVER",
        "colab_type": "code",
        "colab": {}
      },
      "source": [
        "# HINT: you may want to use 'update' method.\n"
      ],
      "execution_count": 0,
      "outputs": []
    },
    {
      "cell_type": "markdown",
      "metadata": {
        "id": "tWo6tCjVBT0m",
        "colab_type": "text"
      },
      "source": [
        "### 3-5. 만든 딕셔너리를 iterable object로 해서 for loop을 돌리고 항목을 출력해봅시다.\n",
        "\n",
        "예) 아래 코드에서 'your_dict' 부분이 iterable object입니다.\n",
        "\n",
        "    for i in your_dict:\n",
        "      print(i)\n",
        "\n",
        "\n",
        "[NOTE] Dictionary는 소위 'mapping type' 자료형으로, 원칙적으로는 순서가 없습니다. 그러나 Python 3.7부터는 dictionary도 순서대로 자료를 처리하기 때문에 위와 같이 iterable object로 쓸 수 있습니다. 그러나 여전히 sequence type이 아니기 때문에, integer indexing, slicing은 적용할 수 없습니다. "
      ]
    },
    {
      "cell_type": "code",
      "metadata": {
        "id": "CTMyo6QCDq4i",
        "colab_type": "code",
        "colab": {}
      },
      "source": [
        ""
      ],
      "execution_count": 0,
      "outputs": []
    },
    {
      "cell_type": "markdown",
      "metadata": {
        "id": "yM6cgyu_E3tf",
        "colab_type": "text"
      },
      "source": [
        "### 3-6. 메소드 keys(), values(), 혹은 items()와 for loop을 이용해서 다음과 같이 출력해보세요(이 메소드들 중 하나만 이용해도 되고 여러 개 이용하셔도 됩니다).\n",
        "\n",
        "예)\n",
        "\n",
        "My favorite fruits: \n",
        "\n",
        "  peach\n",
        "\n",
        "  plum\n",
        "\n",
        "  strawberry\n",
        "\n",
        "My favorite vegetables: \n",
        "\n",
        "  tomato\n",
        "\n",
        "  cucumber\n",
        "\n",
        "  brocoli\n",
        "\n",
        "My favorite music:\n",
        "\n",
        "classical\n",
        "  \n",
        "blues\n",
        "\n",
        "rock"
      ]
    },
    {
      "cell_type": "code",
      "metadata": {
        "id": "EYHgk6v-EIMV",
        "colab_type": "code",
        "colab": {}
      },
      "source": [
        "# .keys() + .values()\n"
      ],
      "execution_count": 0,
      "outputs": []
    },
    {
      "cell_type": "code",
      "metadata": {
        "id": "mYZQC1gdX1_t",
        "colab_type": "code",
        "colab": {}
      },
      "source": [
        "# .items()\n"
      ],
      "execution_count": 0,
      "outputs": []
    },
    {
      "cell_type": "markdown",
      "metadata": {
        "id": "qhjNPZ3QcWbG",
        "colab_type": "text"
      },
      "source": [
        "### 3-7. 1) 현재 딕셔너리를 두 개의 딕셔너리로 나누고, 이 두 딕셔너리를 항목으로 갖는 nested 딕셔너리를 만들어보세요; 2) 이 nested dictionary에서 항목 한 가지만 추출해보세요.\n",
        "\n",
        "예)\n",
        "\n",
        "    dict_food = {'fruits': ['peach', 'plum', 'strawberry'],\n",
        "                'vegetables': ['tomato', 'cucumber', 'brocolli']}\n",
        "    dict_other = {'music': ['classical', 'blues', 'rock']}\n",
        "    my_nested_dict = {'food': dict_food, 'other': dict_other}"
      ]
    },
    {
      "cell_type": "code",
      "metadata": {
        "id": "f2M2QfMVel9t",
        "colab_type": "code",
        "colab": {}
      },
      "source": [
        "# You can simply copy&paste or use pop() method.\n"
      ],
      "execution_count": 0,
      "outputs": []
    },
    {
      "cell_type": "code",
      "metadata": {
        "id": "jzV-vv_Dukp1",
        "colab_type": "code",
        "colab": {}
      },
      "source": [
        "# Show us just one item you like the best!\n"
      ],
      "execution_count": 0,
      "outputs": []
    }
  ]
}