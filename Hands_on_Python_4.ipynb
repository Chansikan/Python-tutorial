{
  "nbformat": 4,
  "nbformat_minor": 0,
  "metadata": {
    "colab": {
      "name": "Hands-on4.ipynb",
      "provenance": [],
      "authorship_tag": "ABX9TyNCYsO/0Tp2qo7PTupCCyc6",
      "include_colab_link": true
    },
    "kernelspec": {
      "name": "python3",
      "display_name": "Python 3"
    }
  },
  "cells": [
    {
      "cell_type": "markdown",
      "metadata": {
        "id": "view-in-github",
        "colab_type": "text"
      },
      "source": [
        "<a href=\"https://colab.research.google.com/github/Chansikan/Python-tutorial/blob/master/Hands_on4.ipynb\" target=\"_parent\"><img src=\"https://colab.research.google.com/assets/colab-badge.svg\" alt=\"Open In Colab\"/></a>"
      ]
    },
    {
      "cell_type": "code",
      "metadata": {
        "id": "jPYIiMu5UzoP",
        "colab_type": "code",
        "colab": {}
      },
      "source": [
        "import os\n",
        "import shutil\n",
        "import random\n",
        "import datetime\n",
        "from pathlib import Path"
      ],
      "execution_count": null,
      "outputs": []
    },
    {
      "cell_type": "markdown",
      "metadata": {
        "id": "xzl4E7LMn8Vl",
        "colab_type": "text"
      },
      "source": [
        "path에 대해 설명"
      ]
    },
    {
      "cell_type": "code",
      "metadata": {
        "id": "QViJDNX8WOs7",
        "colab_type": "code",
        "colab": {}
      },
      "source": [
        "# make directories\n",
        "os.makedirs('/content/pictures/USA(2018-2019)', exist_ok=True)\n",
        "os.makedirs('/content/pictures/2018', exist_ok=True)\n",
        "os.makedirs('/content/pictures/2019', exist_ok=True)"
      ],
      "execution_count": null,
      "outputs": []
    },
    {
      "cell_type": "code",
      "metadata": {
        "id": "cU41KE8MU-Yw",
        "colab_type": "code",
        "colab": {}
      },
      "source": [
        "# area list\n",
        "areaList = ['Tucson','NewMexico', 'YellowStone', 'LakeTahoe', 'Seoul', 'Busan']\n",
        "\n",
        "# generate random dates\n",
        "start_date = datetime.date(2018, 1, 1)\n",
        "end_date = datetime.date(2019, 12, 31)\n",
        "time_between_dates = end_date - start_date\n",
        "days_between_dates = time_between_dates.days\n",
        "    \n",
        "for i in range(1000):\n",
        "  areaName = random.choice(areaList)\n",
        "\n",
        "  # generate random dates\n",
        "  random_number_of_days = random.randrange(days_between_dates)\n",
        "  random_date = start_date + datetime.timedelta(days=random_number_of_days)\n",
        "\n",
        "  fileName = str(random_date) + '_' + areaName + '.jpg'\n",
        "  filePath = os.path.join('/content/pictures', fileName)\n",
        "  \n",
        "  if not os.path.exists(filePath):\n",
        "    Path(filePath).touch()"
      ],
      "execution_count": null,
      "outputs": []
    },
    {
      "cell_type": "markdown",
      "metadata": {
        "id": "JSPnzbTdff1o",
        "colab_type": "text"
      },
      "source": [
        "## 파일들 분류해서 옮기기"
      ]
    },
    {
      "cell_type": "code",
      "metadata": {
        "id": "qGtjiODmZ-83",
        "colab_type": "code",
        "colab": {}
      },
      "source": [
        "srcDir = '/content/pictures'\n",
        "\n",
        "for file in os.listdir(srcDir):\n",
        "  if not file.endswith('.jpg'):\n",
        "    continue\n",
        "  \n",
        "  area = file.split('_')[1].split('.')[0]\n",
        "  year = file.split('-', 1)[0]\n",
        "  filePath = os.path.join(srcDir, file) \n",
        "\n",
        "  if area in ['Tucson','NewMexico', 'YellowStone', 'LakeTahoe']:\n",
        "    new_filePath = os.path.join(srcDir, 'USA(2018-2019)', file)\n",
        "  else:\n",
        "    new_filePath = os.path.join(srcDir, year, file)  \n",
        "  \n",
        "  shutil.move(filePath, new_filePath)\n"
      ],
      "execution_count": null,
      "outputs": []
    }
  ]
}
