{
  "nbformat": 4,
  "nbformat_minor": 0,
  "metadata": {
    "colab": {
      "name": "Hands-on_Python-7.ipynb",
      "provenance": [],
      "collapsed_sections": [],
      "authorship_tag": "ABX9TyN+1FV5IIkHv7Wa8lwAUlu0",
      "include_colab_link": true
    },
    "kernelspec": {
      "name": "python3",
      "display_name": "Python 3"
    }
  },
  "cells": [
    {
      "cell_type": "markdown",
      "metadata": {
        "id": "view-in-github",
        "colab_type": "text"
      },
      "source": [
        "<a href=\"https://colab.research.google.com/github/Chansikan/Python-tutorial/blob/master/Hands_on_Python_7.ipynb\" target=\"_parent\"><img src=\"https://colab.research.google.com/assets/colab-badge.svg\" alt=\"Open In Colab\"/></a>"
      ]
    },
    {
      "cell_type": "markdown",
      "metadata": {
        "id": "V9qkKAIZUcw9",
        "colab_type": "text"
      },
      "source": [
        "### Data Preparation"
      ]
    },
    {
      "cell_type": "code",
      "metadata": {
        "id": "KZe2U3CsQkdE",
        "colab_type": "code",
        "colab": {}
      },
      "source": [
        "# 1. diabetes data 불러오기\n",
        "import pandas as pd\n",
        "\n",
        "df = pd.read_csv('diabetes_data.csv')\n",
        "df = df.loc[:, 'AGE':'Y']\n",
        "\n",
        "# 2. Y를 binary categorical variable로 바꾸기\n",
        "Y_median = df['Y'].median()\n",
        "\n",
        "df = df.assign(\n",
        "    Y_cat = lambda dataframe: dataframe['Y'].map(lambda Y: 1 if Y >= Y_median else 0) \n",
        ")\n",
        "\n",
        "# 3. Select variables, and create X and y\n",
        "X = df.loc[:, 'AGE':'BSL']\n",
        "y = df['Y_cat']\n",
        "print(X)\n",
        "print(y)"
      ],
      "execution_count": null,
      "outputs": []
    },
    {
      "cell_type": "code",
      "metadata": {
        "id": "OucgH0mhQtwq",
        "colab_type": "code",
        "colab": {
          "base_uri": "https://localhost:8080/",
          "height": 51
        },
        "outputId": "0e15fb79-f0e9-4d49-8574-a843f86f8792"
      },
      "source": [
        "# 4. Split the dataset into Training and Test sets\n",
        "from sklearn.model_selection import train_test_split\n",
        "\n",
        "X_train, X_test, y_train, y_test = train_test_split(X, y, test_size=0.3, \n",
        "                   random_state=0, stratify=y)\n",
        "\n",
        "print('No of total cases in training / validation sets: {0} / {1}'\n",
        "      .format(len(X_train), len(X_test)))\n",
        "print('Proportion of positive cases in training / validation sets: {0:.2f} / {1:.2f}'\n",
        "      .format(y_train.sum()/len(y_train), y_test.sum()/len(y_test)))"
      ],
      "execution_count": 2,
      "outputs": [
        {
          "output_type": "stream",
          "text": [
            "No of total cases in training / validation sets: 309 / 133\n",
            "Proportion of positive cases in training / validation sets: 0.50 / 0.50\n"
          ],
          "name": "stdout"
        }
      ]
    },
    {
      "cell_type": "code",
      "metadata": {
        "id": "f_jAMx6HVlwu",
        "colab_type": "code",
        "colab": {}
      },
      "source": [
        "# 5. Standardization\n",
        "from sklearn.preprocessing import StandardScaler\n",
        "\n",
        "scaler = StandardScaler()\n",
        "\n",
        "X_train_scaled = scaler.fit_transform(X_train)\n",
        "X_test = scaler.transform(X_test)\n",
        "X_train_scaled\n",
        "#X_train = pd.DataFrame(X_train_scaled, columns=X_train.columns)\n",
        "#X_train"
      ],
      "execution_count": null,
      "outputs": []
    },
    {
      "cell_type": "markdown",
      "metadata": {
        "id": "p-xp48uPVYNm",
        "colab_type": "text"
      },
      "source": [
        "## Cross validation in the training set: hard coding"
      ]
    },
    {
      "cell_type": "code",
      "metadata": {
        "id": "LHoqQDpdWBAM",
        "colab_type": "code",
        "colab": {}
      },
      "source": [
        "# 1. 모델 만들어 두기\n",
        "from sklearn.linear_model import LogisticRegression\n",
        "\n",
        "LASSO_1 = LogisticRegression(C=0.1, penalty='l1', solver='liblinear', \n",
        "                                   max_iter=10000, random_state=0)"
      ],
      "execution_count": 5,
      "outputs": []
    },
    {
      "cell_type": "code",
      "metadata": {
        "id": "jSf___dLWZTI",
        "colab_type": "code",
        "colab": {}
      },
      "source": [
        "# 2. Cross validation fold 나누기\n",
        "from sklearn.model_selection import KFold\n",
        "from sklearn.metrics import roc_auc_score\n",
        "\n",
        "k = 5\n",
        "model = LASSO_1\n",
        "\n",
        "kf = KFold(n_splits=k, shuffle=False)\n",
        "kf.get_n_splits(X_train)\n",
        "\n",
        "cv_results = []\n",
        "\n",
        "for train_index, val_index in kf.split(X_train):\n",
        "  print(\"Index for validation set:\", val_index)\n",
        "  X_train_fold, X_val_fold = X_train.iloc[train_index, :], X_train.iloc[val_index, :]\n",
        "  y_train_fold, y_val_fold = y_train.iloc[train_index], y_train.iloc[val_index]\n",
        "  \n",
        "  model.fit(X_train_fold, y_train_fold)\n",
        "  y_proba = model.predict_proba(X_val_fold)\n",
        "  auc = roc_auc_score(y_val_fold, y_proba[:,1])\n",
        "  cv_results.append(auc)\n"
      ],
      "execution_count": null,
      "outputs": []
    },
    {
      "cell_type": "code",
      "metadata": {
        "id": "NXWG6UZHX0w5",
        "colab_type": "code",
        "colab": {}
      },
      "source": [
        "import numpy as np\n",
        "\n",
        "print(cv_results)\n",
        "print(\"mean AUC:\", np.mean(cv_results))\n",
        "print(\"AUC SD:\", np.std(cv_results))"
      ],
      "execution_count": null,
      "outputs": []
    },
    {
      "cell_type": "markdown",
      "metadata": {
        "id": "yPSPhdIKlOTt",
        "colab_type": "text"
      },
      "source": [
        "## Cross validation을 이용하여 좋은 모델 정하기"
      ]
    },
    {
      "cell_type": "code",
      "metadata": {
        "id": "Q-gMZma3lSad",
        "colab_type": "code",
        "colab": {}
      },
      "source": [
        "# 1. 모델 만들어 두기\n",
        "from sklearn.linear_model import LogisticRegression\n",
        "from sklearn.ensemble import AdaBoostClassifier\n",
        "\n",
        "LASSO_1 = LogisticRegression(C=0.1, penalty='l1', solver='liblinear', \n",
        "                                   max_iter=10000, random_state=0)\n",
        "LASSO_2 = LogisticRegression(C=0.5, penalty='l1', solver='liblinear', \n",
        "                                   max_iter=10000, random_state=0)\n",
        "LASSO_3 = LogisticRegression(C=1, penalty='l1', solver='liblinear', \n",
        "                                   max_iter=10000, random_state=0)\n",
        "\n",
        "ADA_1 = AdaBoostClassifier(n_estimators=30, random_state=0)\n",
        "ADA_2 = AdaBoostClassifier(n_estimators=50, random_state=0)\n",
        "ADA_3 = AdaBoostClassifier(n_estimators=70, random_state=0)"
      ],
      "execution_count": 9,
      "outputs": []
    },
    {
      "cell_type": "code",
      "metadata": {
        "id": "Wnju_vSolksb",
        "colab_type": "code",
        "colab": {}
      },
      "source": [
        "from sklearn.model_selection import cross_validate\n",
        "from sklearn.metrics import roc_auc_score\n",
        "\n",
        "model = LASSO_1\n",
        "cv = cross_validate(model, X_train, y_train, cv=5, scoring='roc_auc')\n",
        "cv"
      ],
      "execution_count": null,
      "outputs": []
    },
    {
      "cell_type": "code",
      "metadata": {
        "id": "U3Yt-hjTmPY4",
        "colab_type": "code",
        "colab": {}
      },
      "source": [
        "# loop through several models\n",
        "\n",
        "cv_results = {}\n",
        "model_list = [LASSO_1, LASSO_2, LASSO_3, ADA_1, ADA_2, ADA_3]\n",
        "model_name = ['LASSO_1', 'LASSO_2', 'LASSO_3', 'ADA_1', 'ADA_2', 'ADA_3']\n",
        "\n",
        "for name, model in zip(model_name, model_list):\n",
        "  cv = cross_validate(model, X_train, y_train, cv=5, scoring='roc_auc')\n",
        "  cv_results[name] = [np.mean(cv['test_score']), np.std(cv['test_score'])] "
      ],
      "execution_count": 20,
      "outputs": []
    },
    {
      "cell_type": "code",
      "metadata": {
        "id": "Wb6nnz6anNHu",
        "colab_type": "code",
        "colab": {}
      },
      "source": [
        "cv_results"
      ],
      "execution_count": null,
      "outputs": []
    },
    {
      "cell_type": "code",
      "metadata": {
        "id": "nSr9SlCinUP9",
        "colab_type": "code",
        "colab": {}
      },
      "source": [
        "# Try testing!\n",
        "LASSO_2.fit(X_train, y_train)\n",
        "y_proba = LASSO_2.predict_proba(X_test)\n",
        "roc_auc_score(y_test, y_proba[:,1])"
      ],
      "execution_count": null,
      "outputs": []
    },
    {
      "cell_type": "markdown",
      "metadata": {
        "id": "JD_Vjry9nY28",
        "colab_type": "text"
      },
      "source": [
        "## Hyperparameter optimization"
      ]
    },
    {
      "cell_type": "code",
      "metadata": {
        "id": "PZjyndWZnp3c",
        "colab_type": "code",
        "colab": {}
      },
      "source": [
        "# AdaBoost\n",
        "\n",
        "cv_results = {}\n",
        "n_estimator_list = [10, 20, 30, 40, 50, 60, 70, 80, 90, 100]\n",
        "for ne in n_estimator_list:\n",
        "  model = AdaBoostClassifier(n_estimators=ne, random_state=0)\n",
        "  cv = cross_validate(model, X_train, y_train, cv=5, scoring='roc_auc')\n",
        "  cv_results[ne] = [round(np.mean(cv['test_score']), 3), \n",
        "                    round(np.std(cv['test_score']), 3)] \n",
        "\n",
        "cv_results"
      ],
      "execution_count": null,
      "outputs": []
    },
    {
      "cell_type": "code",
      "metadata": {
        "id": "uPkQuGMvqFgz",
        "colab_type": "code",
        "colab": {}
      },
      "source": [
        "# LASSO\n",
        "\n",
        "cv_results = {}\n",
        "c_list = [0.1, 0.2, 0.3, 0.4, 0.5, 0.6, 0.7, 0.8, 0.9, 1]\n",
        "for c in c_list:\n",
        "  model = LogisticRegression(C=c, penalty='l1', solver='liblinear', \n",
        "                                   max_iter=10000, random_state=0)\n",
        "  cv = cross_validate(model, X_train, y_train, cv=5, scoring='roc_auc')\n",
        "  cv_results[c] = [round(np.mean(cv['test_score']), 3), \n",
        "                    round(np.std(cv['test_score']), 3)] \n",
        "\n",
        "cv_results"
      ],
      "execution_count": null,
      "outputs": []
    },
    {
      "cell_type": "code",
      "metadata": {
        "id": "53kQHmj6pGPa",
        "colab_type": "code",
        "colab": {}
      },
      "source": [
        "from sklearn.model_selection import train_test_split\n",
        "\n",
        "X_train, X_test, y_train, y_test = train_test_split(X, y, test_size=0.3, \n",
        "                   random_state=0, stratify=y)\n",
        "\n",
        "selected_LASSO = LogisticRegression(C=1, penalty='l1', solver='liblinear', \n",
        "                                   max_iter=10000, random_state=0)\n",
        "selected_ADA = AdaBoostClassifier(n_estimators=100, random_state=0)\n",
        "\n",
        "selected_LASSO.fit(X_train, y_train)\n",
        "selected_ADA.fit(X_train, y_train)\n",
        "\n",
        "y_proba_LASSO = selected_LASSO.predict_proba(X_test)\n",
        "y_proba_ADA = selected_ADA.predict_proba(X_test)\n",
        "\n",
        "print(\"AUC for LASSO:\", round(roc_auc_score(y_test, y_proba_LASSO[:,1]), 3))\n",
        "print(\"AUC for ADA:\", round(roc_auc_score(y_test, y_proba_ADA[:,1]), 3))"
      ],
      "execution_count": null,
      "outputs": []
    },
    {
      "cell_type": "markdown",
      "metadata": {
        "id": "zypSJfPWrVnQ",
        "colab_type": "text"
      },
      "source": [
        "## Further simplify using SK-Learn API"
      ]
    },
    {
      "cell_type": "code",
      "metadata": {
        "id": "KCj1SA1prZUi",
        "colab_type": "code",
        "colab": {}
      },
      "source": [
        "from sklearn.model_selection import GridSearchCV\n",
        "\n",
        "LASSO = LogisticRegression(penalty='l1', solver='liblinear', \n",
        "                           max_iter=10000, random_state=0)\n",
        "ADA = AdaBoostClassifier(random_state=0)\n",
        "\n",
        "param_grid_LASSO = {'C': [0.1, 0.2, 0.3, 0.4, 0.5, 0.6, 0.7, 0.8, 0.9, 1]}\n",
        "param_grid_ADA = {'n_estimators': [10, 20, 30, 40, 50, 60, 70, 80, 90, 100],\n",
        "                  'learning_rate': [0.1, 0.5, 1]}\n",
        "\n",
        "selected_LASSO = GridSearchCV(LASSO, param_grid_LASSO, scoring='roc_auc', cv=5)\n",
        "selected_LASSO.fit(X_train, y_train)\n",
        "\n",
        "selected_ADA = GridSearchCV(ADA, param_grid_ADA, scoring='roc_auc', cv=5)\n",
        "selected_ADA.fit(X_train, y_train)"
      ],
      "execution_count": null,
      "outputs": []
    },
    {
      "cell_type": "code",
      "metadata": {
        "id": "oP1rUougsmEX",
        "colab_type": "code",
        "colab": {}
      },
      "source": [
        "print(\"LASSO AUC in CV:\", selected_LASSO.best_score_ )\n",
        "print(\"ADA AUC in CV:\", selected_ADA.best_score_)"
      ],
      "execution_count": null,
      "outputs": []
    },
    {
      "cell_type": "code",
      "metadata": {
        "id": "k-j-6P8xs_i2",
        "colab_type": "code",
        "colab": {}
      },
      "source": [
        "print(selected_ADA.best_params_)\n",
        "print(selected_LASSO.best_params_)"
      ],
      "execution_count": null,
      "outputs": []
    },
    {
      "cell_type": "code",
      "metadata": {
        "id": "c6J3dYGiuTQG",
        "colab_type": "code",
        "colab": {}
      },
      "source": [
        "print(selected_ADA.best_estimator_)\n",
        "print(selected_LASSO.best_estimator_)"
      ],
      "execution_count": null,
      "outputs": []
    },
    {
      "cell_type": "code",
      "metadata": {
        "id": "Hr6wDtYkt5_g",
        "colab_type": "code",
        "colab": {}
      },
      "source": [
        "# Try testing!\n",
        "\n",
        "\n"
      ],
      "execution_count": null,
      "outputs": []
    }
  ]
}