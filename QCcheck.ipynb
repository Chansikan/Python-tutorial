{
 "cells": [
  {
   "cell_type": "code",
   "execution_count": 54,
   "metadata": {},
   "outputs": [],
   "source": [
    "import os\n",
    "import nibabel as nib\n",
    "import numpy as np\n",
    "from PIL import Image\n",
    "import matplotlib.image\n",
    "import functools\n",
    "\n",
    "srcDir = 'C:\\\\Users\\\\chans\\\\OneDrive\\\\Desktop\\\\test'\n",
    "\n",
    "def select_resize(img_path, size=(200, 200)):\n",
    "    img = nib.load(img_path).get_fdata()\n",
    "    img = img[:, :, int(img.shape[2] / 2)]\n",
    "    img = Image.fromarray(img)\n",
    "    img = img.resize(size)\n",
    "    return np.asarray(img)\n",
    "\n",
    "dirDic = {}\n",
    "for step in ['Resampled', 'Coregistered', 'Stripped']:\n",
    "    stepDir = os.path.join(srcDir, step)\n",
    "    dirDic[step] = sorted(os.listdir(stepDir))\n",
    "\n",
    "mrn_list = dirDic['Resampled']\n",
    "\n",
    "# sanity check, whether the subfolders have consistent patient lists\n",
    "checkBool = (mrn_list == dirDic['Coregistered']) and (mrn_list == dirDic['Stripped'])\n",
    "assert checkBool, 'MRNs in subdirectories do not match! \\\n",
    "                   Please make sure that all the subdirectories have the same patient data!'\n",
    "\n",
    "for mrn in mrn_list:\n",
    "    resampleDir = os.path.join(srcDir, 'Resampled', mrn)\n",
    "    registerDir = os.path.join(srcDir, 'Coregistered', mrn)\n",
    "    strippedDir = os.path.join(srcDir, 'Stripped', mrn)\n",
    "    \n",
    "    fin_list = []\n",
    "    for directory in [resampleDir, registerDir, strippedDir]:    \n",
    "        \n",
    "        img_list = []\n",
    "        for img in sorted(os.listdir(directory)):\n",
    "            imgPath = os.path.join(directory, img)\n",
    "            img_list.append(select_resize(imgPath))\n",
    "            img_combined = functools.reduce(\n",
    "                               (lambda x, y : np.concatenate((x, y), axis=1)\n",
    "                           ), img_list)\n",
    "        fin_list.append(img_combined)\n",
    "\n",
    "    fin_img = functools.reduce(\n",
    "                  (lambda x, y : np.concatenate((x, y), axis=0)\n",
    "              ), fin_list)\n",
    "    \n",
    "    fileName = mrn + '_QC.png'\n",
    "    matplotlib.image.imsave(fileName, fin_img, cmap='gray')"
   ]
  },
  {
   "cell_type": "code",
   "execution_count": 44,
   "metadata": {},
   "outputs": [],
   "source": [
    "fin_list = []\n",
    "for pt in os.listdir(srcDir):\n",
    "    ptDir = os.path.join(srcDir, pt)\n",
    "    \n",
    "    img_list = []\n",
    "    for img in os.listdir(ptDir):\n",
    "        imgPath = os.path.join(ptDir, img)\n",
    "        img_list.append(select_resize(imgPath))\n",
    "    \n",
    "    img_combined = functools.reduce(\n",
    "                       (lambda x, y : np.concatenate((x, y), axis=1)\n",
    "                   ), img_list)\n",
    "    \n",
    "    fin_list.append(img_combined)\n",
    "        \n",
    "fin_img = functools.reduce(\n",
    "              (lambda x, y : np.concatenate((x, y), axis=0)\n",
    "           ), fin_list)\n",
    "\n",
    "matplotlib.image.imsave('name.png', fin_img, cmap='gray')"
   ]
  },
  {
   "cell_type": "code",
   "execution_count": 34,
   "metadata": {},
   "outputs": [],
   "source": [
    "import os\n",
    "import nibabel as nib\n",
    "import numpy as np\n",
    "from PIL import Image\n",
    "import matplotlib.image\n",
    "\n",
    "\n",
    "srcFile1 = 'C:\\\\Users\\\\chans\\\\OneDrive\\\\Desktop\\\\test\\\\34652856\\AX_T1.nii.gz'\n",
    "srcFile2 = 'C:\\\\Users\\\\chans\\\\OneDrive\\\\Desktop\\\\test\\\\34652856\\AX_T2.nii.gz'\n",
    "\n",
    "def select_resize(img_path, size=(200, 200)):\n",
    "    img = nib.load(img_path).get_fdata()\n",
    "    img = img[:, :, int(img.shape[2] / 2)]\n",
    "    img = Image.fromarray(img)\n",
    "    img = img.resize(size)\n",
    "    return np.asarray(img)\n",
    "\n",
    "img = np.concatenate((select_resize(srcFile1), \n",
    "                      select_resize(srcFile2)), axis=1)\n",
    "\n",
    "matplotlib.image.imsave('name.png', img, cmap='gray')\n"
   ]
  },
  {
   "cell_type": "code",
   "execution_count": 27,
   "metadata": {},
   "outputs": [],
   "source": [
    "img2 = nib.load(srcFile2).get_fdata()\n",
    "img2 = img2[:, :, int(img2.shape[2] / 2)]\n",
    "img2 = img2.resize((220, 220))\n",
    "\n",
    "img = np.concatenate((img1, img2), axis=1)\n",
    "\n",
    "matplotlib.image.imsave('name.png', img, cmap='gray')\n"
   ]
  },
  {
   "cell_type": "code",
   "execution_count": 43,
   "metadata": {},
   "outputs": [
    {
     "data": {
      "text/plain": [
       "[array([[-256., -256., -256., ...,    0.,    0.,    0.],\n",
       "        [-256., -256., -256., ...,    0.,    0.,    0.],\n",
       "        [-256., -256., -256., ...,    0.,    0.,    0.],\n",
       "        ...,\n",
       "        [-256., -256., -256., ...,    0.,    0.,    0.],\n",
       "        [-256., -256., -256., ...,    0.,    0.,    0.],\n",
       "        [-256., -256., -256., ...,    0.,    0.,    0.]], dtype=float32),\n",
       " array([[0.        , 0.        , 0.        , ..., 0.        , 0.        ,\n",
       "         0.        ],\n",
       "        [0.        , 0.        , 0.        , ..., 0.        , 0.        ,\n",
       "         0.        ],\n",
       "        [0.        , 0.        , 0.        , ..., 0.00016455, 0.        ,\n",
       "         0.        ],\n",
       "        ...,\n",
       "        [0.        , 0.        , 0.        , ..., 0.00016455, 0.        ,\n",
       "         0.        ],\n",
       "        [0.        , 0.        , 0.        , ..., 0.        , 0.        ,\n",
       "         0.        ],\n",
       "        [0.        , 0.        , 0.        , ..., 0.        , 0.        ,\n",
       "         0.        ]], dtype=float32),\n",
       " array([[0., 0., 0., ..., 0., 0., 0.],\n",
       "        [0., 0., 0., ..., 0., 0., 0.],\n",
       "        [0., 0., 0., ..., 0., 0., 0.],\n",
       "        ...,\n",
       "        [0., 0., 0., ..., 0., 0., 0.],\n",
       "        [0., 0., 0., ..., 0., 0., 0.],\n",
       "        [0., 0., 0., ..., 0., 0., 0.]], dtype=float32)]"
      ]
     },
     "execution_count": 43,
     "metadata": {},
     "output_type": "execute_result"
    }
   ],
   "source": [
    "fin_list"
   ]
  }
 ],
 "metadata": {
  "kernelspec": {
   "display_name": "Python 3",
   "language": "python",
   "name": "python3"
  },
  "language_info": {
   "codemirror_mode": {
    "name": "ipython",
    "version": 3
   },
   "file_extension": ".py",
   "mimetype": "text/x-python",
   "name": "python",
   "nbconvert_exporter": "python",
   "pygments_lexer": "ipython3",
   "version": "3.7.6"
  }
 },
 "nbformat": 4,
 "nbformat_minor": 4
}
