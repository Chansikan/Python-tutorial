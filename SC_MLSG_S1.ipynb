{
  "nbformat": 4,
  "nbformat_minor": 0,
  "metadata": {
    "colab": {
      "name": "SC-MLSG_S1.ipynb",
      "provenance": [],
      "collapsed_sections": [],
      "authorship_tag": "ABX9TyOMDCQImZdEVHoNpuXShj1f",
      "include_colab_link": true
    },
    "kernelspec": {
      "name": "python3",
      "display_name": "Python 3"
    }
  },
  "cells": [
    {
      "cell_type": "markdown",
      "metadata": {
        "id": "view-in-github",
        "colab_type": "text"
      },
      "source": [
        "<a href=\"https://colab.research.google.com/github/Chansikan/Python-tutorial/blob/master/SC_MLSG_S1.ipynb\" target=\"_parent\"><img src=\"https://colab.research.google.com/assets/colab-badge.svg\" alt=\"Open In Colab\"/></a>"
      ]
    },
    {
      "cell_type": "markdown",
      "metadata": {
        "id": "wdeNmeNJkMKA",
        "colab_type": "text"
      },
      "source": [
        "# Hands-on machine learning"
      ]
    },
    {
      "cell_type": "markdown",
      "metadata": {
        "id": "s6q9-o2Yl04t",
        "colab_type": "text"
      },
      "source": [
        "## Machine learning flow\n",
        "\n",
        "1. Frame the problem and look at the big picture\n",
        "- Binary classification (GBM vs. metastasis), evaluated using AUC\n",
        "- AUC of two human readers: 0.75 and 0.9\n",
        "\n",
        "2. Get the data\n",
        "3. Explore the data\n",
        "4. Prepare the data\n",
        "- Standardization\n",
        "- Feature selection\n",
        "5. Shortlist promising models\n",
        "6. Fine-tune the system\n",
        "7. Present your solution\n",
        "8. Launch, monitor, and maintain your system\n"
      ]
    },
    {
      "cell_type": "markdown",
      "metadata": {
        "id": "OBU8HPHm3opR",
        "colab_type": "text"
      },
      "source": [
        "## Data preparation"
      ]
    },
    {
      "cell_type": "code",
      "metadata": {
        "id": "Zce0Dy10kELV",
        "colab_type": "code",
        "colab": {
          "base_uri": "https://localhost:8080/",
          "height": 510
        },
        "outputId": "b90718f9-78a2-49d3-88ab-c9e81a0558f4"
      },
      "source": [
        "import pandas as pd\n",
        "\n",
        "df_internal = pd.read_csv('GvM_training_cohort.csv')\n",
        "df_external = pd.read_csv('GvM_ext_cohort.csv')\n",
        "\n",
        "bool_idx = (df_internal.columns.str.startswith('CE_mask') | \\\n",
        "  df_internal.columns.str.startswith('periT2_mask')) & \\\n",
        "  (~ df_internal.columns.str.contains('EdgeContrast'))\n",
        "\n",
        "X_int = df_internal.loc[:, bool_idx]\n",
        "y_int = df_internal['Label']\n",
        "X_ext = df_external.loc[:, bool_idx]\n",
        "y_ext = df_external['Label']\n",
        "\n",
        "# sanity check\n",
        "print(all(X_int.columns == X_ext.columns))\n",
        "print(X_int)\n",
        "print(X_ext)"
      ],
      "execution_count": 1,
      "outputs": [
        {
          "output_type": "stream",
          "text": [
            "True\n",
            "     CE_mask_with_CE_image_firstorder_10Percentile  ...  periT2_mask_with_T2_image_shape_VoxelVolume\n",
            "0                                        27.397602  ...                                        10922\n",
            "1                                        17.417849  ...                                        46168\n",
            "2                                        -8.090730  ...                                       144196\n",
            "3                                        28.986559  ...                                       171396\n",
            "4                                         8.421994  ...                                        86985\n",
            "..                                             ...  ...                                          ...\n",
            "162                                      26.026626  ...                                        24236\n",
            "163                                      14.857413  ...                                        56159\n",
            "164                                      -6.727435  ...                                       113292\n",
            "165                                      -6.029851  ...                                         7011\n",
            "166                                      49.999754  ...                                        32544\n",
            "\n",
            "[167 rows x 372 columns]\n",
            "    CE_mask_with_CE_image_firstorder_10Percentile  ...  periT2_mask_with_T2_image_shape_VoxelVolume\n",
            "0                                       18.428611  ...                                        26675\n",
            "1                                       29.901906  ...                                        80462\n",
            "2                                        9.572509  ...                                       137839\n",
            "3                                        8.987461  ...                                        52070\n",
            "4                                       19.839610  ...                                        57565\n",
            "..                                            ...  ...                                          ...\n",
            "77                                       7.261106  ...                                        97762\n",
            "78                                       2.496734  ...                                       118535\n",
            "79                                      30.772902  ...                                        71045\n",
            "80                                       0.481701  ...                                        26654\n",
            "81                                       9.771041  ...                                        69245\n",
            "\n",
            "[82 rows x 372 columns]\n"
          ],
          "name": "stdout"
        }
      ]
    },
    {
      "cell_type": "markdown",
      "metadata": {
        "id": "DTRplUnP3uBY",
        "colab_type": "text"
      },
      "source": [
        "## Very simple procedure"
      ]
    },
    {
      "cell_type": "code",
      "metadata": {
        "id": "h7_YW-kh3H9Q",
        "colab_type": "code",
        "colab": {
          "base_uri": "https://localhost:8080/",
          "height": 51
        },
        "outputId": "f542b92a-a7f6-467d-c850-06f9ffb08052"
      },
      "source": [
        "from sklearn.model_selection import train_test_split\n",
        "\n",
        "X_train, X_val, y_train, y_val = \\\n",
        "  train_test_split(X_int, y_int, test_size=0.3, \n",
        "                   random_state=2020, stratify=y_int)\n",
        "\n",
        "print('No of total cases in training / validation sets: {0} / {1}'\n",
        "      .format(len(X_train), len(X_val)))\n",
        "print('Proportion of metastasis in training / validation sets: {0:.2f} / {1:.2f}'\n",
        "      .format(y_train.sum()/len(y_train), y_val.sum()/len(y_val)))"
      ],
      "execution_count": 8,
      "outputs": [
        {
          "output_type": "stream",
          "text": [
            "No of total cases in training / validation sets: 116 / 51\n",
            "Proportion of metastasis in training / validation sets: 0.34 / 0.35\n"
          ],
          "name": "stdout"
        }
      ]
    },
    {
      "cell_type": "code",
      "metadata": {
        "id": "yu2g7nlZlWNi",
        "colab_type": "code",
        "colab": {}
      },
      "source": [
        "# Prepare several model candidates\n",
        "from sklearn.linear_model import LogisticRegression\n",
        "from sklearn.ensemble import AdaBoostClassifier\n",
        "\n",
        "model_LASSO_1 = LogisticRegression(C=0.001, penalty='l1', solver='liblinear', \n",
        "                                   max_iter=10000, random_state=0)\n",
        "model_LASSO_2 = LogisticRegression(C=0.01, random_state=0)\n",
        "model_LASSO_3 = LogisticRegression(C=0.1, random_state=0)\n",
        "\n",
        "model_ADA_1 = AdaBoostClassifier(n_estimators=100, learning_rate=0.1, random_state=0)\n",
        "model_ADA_2 = AdaBoostClassifier(n_estimators=150, learning_rate=0.05, random_state=0)\n",
        "model_ADA_3 = AdaBoostClassifier(n_estimators=200, learning_rate=1, random_state=0)"
      ],
      "execution_count": 0,
      "outputs": []
    },
    {
      "cell_type": "code",
      "metadata": {
        "id": "QI3sXBXHk5az",
        "colab_type": "code",
        "colab": {
          "base_uri": "https://localhost:8080/",
          "height": 34
        },
        "outputId": "69798a8c-f6bd-4b6e-bdef-eeb0cb585b41"
      },
      "source": [
        "# train and validate!\n",
        "from sklearn.metrics import roc_auc_score\n",
        "\n",
        "model_LASSO_1.fit(X_train, y_train)\n",
        "y_pred = model_LASOO_1.predict(X_val)\n",
        "roc_auc_score(y_val, y_pred)"
      ],
      "execution_count": 13,
      "outputs": [
        {
          "output_type": "execute_result",
          "data": {
            "text/plain": [
              "0.5"
            ]
          },
          "metadata": {
            "tags": []
          },
          "execution_count": 13
        }
      ]
    },
    {
      "cell_type": "code",
      "metadata": {
        "id": "PmX6bWmd9ITQ",
        "colab_type": "code",
        "colab": {}
      },
      "source": [
        "# try standardization\n",
        "# try LASSO (regularization)\n",
        "# how about ADA? try feature selection"
      ],
      "execution_count": 0,
      "outputs": []
    },
    {
      "cell_type": "code",
      "metadata": {
        "id": "SCn3J0gqk2OI",
        "colab_type": "code",
        "colab": {}
      },
      "source": [
        "# standardizarion: insert this cell above\n",
        "from sklearn.preprocessing import StandardScaler\n",
        "\n",
        "scaler = StandardScaler()\n",
        "scaler.fit(X_int, y_int)\n",
        "X_int = scaler.transform(X_int)"
      ],
      "execution_count": 0,
      "outputs": []
    },
    {
      "cell_type": "code",
      "metadata": {
        "id": "NBQXVykj0qrx",
        "colab_type": "code",
        "colab": {}
      },
      "source": [
        "#### automation ####\n",
        "model_list = [model_LASSO_1, model_LASSO_2, model_LASSO_3,\n",
        "              model_ADA_1, model_ADA_2, model_ADA_3]\n",
        "\n",
        "for clf in model_list:\n",
        "  clf.fit(X_train, y_train)\n",
        "  y_pred = clf.predict(X_val)\n",
        "  print(clf, roc_auc_score(y_val, y_pred))"
      ],
      "execution_count": 0,
      "outputs": []
    },
    {
      "cell_type": "code",
      "metadata": {
        "id": "IdQFnarp_Bcm",
        "colab_type": "code",
        "colab": {
          "base_uri": "https://localhost:8080/",
          "height": 34
        },
        "outputId": "ffce7523-5911-4654-bfab-727a9d3a1892"
      },
      "source": [
        "#### feature selection\n",
        "from sklearn.feature_selection import SelectKBest, mutual_info_classif\n",
        "\n",
        "X_new = SelectKBest(mutual_info_classif, k=20).fit_transform(X_int, y_int)\n",
        "X_new.shape"
      ],
      "execution_count": 16,
      "outputs": [
        {
          "output_type": "execute_result",
          "data": {
            "text/plain": [
              "(167, 20)"
            ]
          },
          "metadata": {
            "tags": []
          },
          "execution_count": 16
        }
      ]
    },
    {
      "cell_type": "code",
      "metadata": {
        "id": "H4IBOzc01P5o",
        "colab_type": "code",
        "colab": {}
      },
      "source": [
        "# information leak -> loop 안으로 standardization, feat. selection 가지고 들어와야함\n",
        "\n",
        "X_int = df_internal.loc[:, bool_idx]\n",
        "y_int = df_internal['Label']\n",
        "\n",
        "X_train, X_val, y_train, y_val = \\\n",
        "  train_test_split(X_int, y_int, test_size=0.3, \n",
        "                   random_state=2020, stratify=y_int)\n",
        "  \n",
        "X_train = scaler.fit_transform(X_train, y_train)\n",
        "X_val = scaler.transform(X_val)\n",
        "\n",
        "results = []\n",
        "best_auc = 0\n",
        "comb = [(k, c) for k in [20, 40, 60, 80] for c in [0.001, 0.005, 0.01, 0.05, 0.1]]\n",
        "for k, c in comb:\n",
        "  #print(k, c)\n",
        "  selector = SelectKBest(mutual_info_classif, k=k)\n",
        "  X_train_sel = selector.fit_transform(X_train, y_train)\n",
        "  X_val_sel = selector.transform(X_val)\n",
        "\n",
        "  clf = LogisticRegression(C=c, penalty='l1', solver='liblinear')\n",
        "  clf.fit(X_train_sel, y_train)\n",
        "  y_pred = clf.predict(X_val_sel)\n",
        "  auc = roc_auc_score(y_val, y_pred)\n",
        "  results.append([(k, c), auc])\n",
        "  if auc > best_auc:\n",
        "    best_auc = auc\n",
        "    best_model = [selector, clf, auc]"
      ],
      "execution_count": 0,
      "outputs": []
    },
    {
      "cell_type": "code",
      "metadata": {
        "id": "IYjNje8gCwPW",
        "colab_type": "code",
        "colab": {
          "base_uri": "https://localhost:8080/",
          "height": 136
        },
        "outputId": "5d4dc211-c0a6-42ea-9ee1-b415b53a9f6f"
      },
      "source": [
        "best_model"
      ],
      "execution_count": 24,
      "outputs": [
        {
          "output_type": "execute_result",
          "data": {
            "text/plain": [
              "[SelectKBest(k=80, score_func=<function mutual_info_classif at 0x7f6a193988c8>),\n",
              " LogisticRegression(C=0.1, class_weight=None, dual=False, fit_intercept=True,\n",
              "                    intercept_scaling=1, l1_ratio=None, max_iter=100,\n",
              "                    multi_class='auto', n_jobs=None, penalty='l1',\n",
              "                    random_state=None, solver='liblinear', tol=0.0001, verbose=0,\n",
              "                    warm_start=False),\n",
              " 0.9015151515151516]"
            ]
          },
          "metadata": {
            "tags": []
          },
          "execution_count": 24
        }
      ]
    },
    {
      "cell_type": "code",
      "metadata": {
        "id": "0VJ86WAo0_2x",
        "colab_type": "code",
        "colab": {
          "base_uri": "https://localhost:8080/",
          "height": 34
        },
        "outputId": "1bf907a9-13e7-4b8f-bdd8-d165cc1bd4f9"
      },
      "source": [
        "# test\n",
        "final_selector = best_model[0]\n",
        "final_clf = best_model[1]\n",
        "\n",
        "X_int_scaled = scaler.fit_transform(X_int, y_int)\n",
        "X_ext_scaled = scaler.transform(X_ext)\n",
        "\n",
        "X_int_sel = final_selector.transform(X_int_scaled)\n",
        "X_ext_sel = final_selector.transform(X_ext_scaled)\n",
        "\n",
        "final_clf.fit(X_int_sel, y_int)\n",
        "y_pred = final_clf.predict(X_ext_sel)\n",
        "\n",
        "roc_auc_score(y_ext, y_pred)"
      ],
      "execution_count": 25,
      "outputs": [
        {
          "output_type": "execute_result",
          "data": {
            "text/plain": [
              "0.7256250000000001"
            ]
          },
          "metadata": {
            "tags": []
          },
          "execution_count": 25
        }
      ]
    },
    {
      "cell_type": "code",
      "metadata": {
        "id": "Sof1p2Kw1cwm",
        "colab_type": "code",
        "colab": {
          "base_uri": "https://localhost:8080/",
          "height": 34
        },
        "outputId": "0ac75327-de62-4744-a1c1-3f5d89674ceb"
      },
      "source": [
        "# class Pipeline -> info leak 되지 않으므로 더욱 편리함\n",
        "from sklearn.pipeline import Pipeline\n",
        "\n",
        "pipe = Pipeline([('scaler', StandardScaler()), \n",
        "                 ('feat_selector', final_selector),\n",
        "                 ('clf', final_clf)])\n",
        "\n",
        "pipe.fit(X_int, y_int)\n",
        "\n",
        "y_pred = pipe.predict(X_ext)\n",
        "\n",
        "roc_auc_score(y_ext, y_pred)"
      ],
      "execution_count": 26,
      "outputs": [
        {
          "output_type": "execute_result",
          "data": {
            "text/plain": [
              "0.7256250000000001"
            ]
          },
          "metadata": {
            "tags": []
          },
          "execution_count": 26
        }
      ]
    },
    {
      "cell_type": "code",
      "metadata": {
        "id": "v8fbKLvV1mUO",
        "colab_type": "code",
        "colab": {}
      },
      "source": [
        "# let's do cross validation, using Pipeline class\n",
        "\n",
        "from sklearn.model_selection import GridSearchCV\n",
        "\n",
        "SelectKBest(mutual_info_classif)\n",
        "\n",
        "pipe = Pipeline([('scaler', StandardScaler()), \n",
        "                 ('fs', SelectKBest(mutual_info_classif)),\n",
        "                 ('clf', LogisticRegression(penalty='l1', solver='liblinear'))])\n",
        "\n",
        "param_grid = {\n",
        "    'fs__k': [20, 40, 60, 80],\n",
        "    'clf__C': [0.001, 0.01, 0.1]\n",
        "}\n",
        "\n",
        "gs_clf = GridSearchCV(pipe, param_grid)"
      ],
      "execution_count": 0,
      "outputs": []
    },
    {
      "cell_type": "code",
      "metadata": {
        "id": "gpwSfdp2HIv3",
        "colab_type": "code",
        "colab": {
          "base_uri": "https://localhost:8080/",
          "height": 564
        },
        "outputId": "f984edd8-03ac-4606-ab98-c4b7eadaf0b3"
      },
      "source": [
        "print(gs_clf)\n",
        "gs_clf.fit(X_int, y_int)\n",
        "print(gs_clf)"
      ],
      "execution_count": 29,
      "outputs": [
        {
          "output_type": "execute_result",
          "data": {
            "text/plain": [
              "GridSearchCV(cv=None, error_score=nan,\n",
              "             estimator=Pipeline(memory=None,\n",
              "                                steps=[('scaler',\n",
              "                                        StandardScaler(copy=True,\n",
              "                                                       with_mean=True,\n",
              "                                                       with_std=True)),\n",
              "                                       ('fs',\n",
              "                                        SelectKBest(k=10,\n",
              "                                                    score_func=<function mutual_info_classif at 0x7f6a193988c8>)),\n",
              "                                       ('clf',\n",
              "                                        LogisticRegression(C=1.0,\n",
              "                                                           class_weight=None,\n",
              "                                                           dual=False,\n",
              "                                                           fit_intercept=True,\n",
              "                                                           intercept_scaling=1,\n",
              "                                                           l1_ratio=None,\n",
              "                                                           max_iter=100,\n",
              "                                                           multi_class='auto',\n",
              "                                                           n_jobs=None,\n",
              "                                                           penalty='l1',\n",
              "                                                           random_state=None,\n",
              "                                                           solver='liblinear',\n",
              "                                                           tol=0.0001,\n",
              "                                                           verbose=0,\n",
              "                                                           warm_start=False))],\n",
              "                                verbose=False),\n",
              "             iid='deprecated', n_jobs=None,\n",
              "             param_grid={'clf__C': [0.001, 0.01, 0.1],\n",
              "                         'fs__k': [20, 40, 60, 80]},\n",
              "             pre_dispatch='2*n_jobs', refit=True, return_train_score=False,\n",
              "             scoring=None, verbose=0)"
            ]
          },
          "metadata": {
            "tags": []
          },
          "execution_count": 29
        }
      ]
    },
    {
      "cell_type": "code",
      "metadata": {
        "id": "GPcGLhnPIAOY",
        "colab_type": "code",
        "colab": {
          "base_uri": "https://localhost:8080/",
          "height": 34
        },
        "outputId": "dd941a78-1676-41a2-934b-b84ab3ec1f40"
      },
      "source": [
        "gs_clf.best_score_\n",
        "gs_clf.best_estimator_\n",
        "\n",
        "y_pred = gs_clf.predict(X_ext)\n",
        "\n",
        "roc_auc_score(y_ext, y_pred)"
      ],
      "execution_count": 33,
      "outputs": [
        {
          "output_type": "execute_result",
          "data": {
            "text/plain": [
              "0.7256250000000001"
            ]
          },
          "metadata": {
            "tags": []
          },
          "execution_count": 33
        }
      ]
    },
    {
      "cell_type": "code",
      "metadata": {
        "id": "IvWb6p_FKZs5",
        "colab_type": "code",
        "colab": {
          "base_uri": "https://localhost:8080/",
          "height": 34
        },
        "outputId": "127e69d3-63e1-4643-8f14-1d835f00e290"
      },
      "source": [
        "type(X_int)"
      ],
      "execution_count": 2,
      "outputs": [
        {
          "output_type": "execute_result",
          "data": {
            "text/plain": [
              "pandas.core.frame.DataFrame"
            ]
          },
          "metadata": {
            "tags": []
          },
          "execution_count": 2
        }
      ]
    }
  ]
}