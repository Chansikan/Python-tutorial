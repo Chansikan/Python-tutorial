{
  "nbformat": 4,
  "nbformat_minor": 0,
  "metadata": {
    "colab": {
      "name": "Tutorial1.ipynb",
      "provenance": [],
      "collapsed_sections": [],
      "authorship_tag": "ABX9TyM3NR55gpC6nIMh+IxpmS+3",
      "include_colab_link": true
    },
    "kernelspec": {
      "name": "python3",
      "display_name": "Python 3"
    },
    "accelerator": "GPU"
  },
  "cells": [
    {
      "cell_type": "markdown",
      "metadata": {
        "id": "view-in-github",
        "colab_type": "text"
      },
      "source": [
        "<a href=\"https://colab.research.google.com/github/Chansikan/Python-tutorial/blob/master/Tutorial1.ipynb\" target=\"_parent\"><img src=\"https://colab.research.google.com/assets/colab-badge.svg\" alt=\"Open In Colab\"/></a>"
      ]
    },
    {
      "cell_type": "markdown",
      "metadata": {
        "id": "YUpRRmJVToAI",
        "colab_type": "text"
      },
      "source": [
        "# 함께 공부하는 파이썬, 우선 필요한 만큼만!\n",
        "## Tutorial 1: basic concepts 1\n"
      ]
    },
    {
      "cell_type": "markdown",
      "metadata": {
        "id": "cytbFv9WUDsr",
        "colab_type": "text"
      },
      "source": [
        "## Contents\n",
        "- markdown\n",
        "- how to use GPU on G-Colab, upload data, etc.\n",
        "- object, name space, variable type\n",
        "- list\n",
        "- subsetting\n",
        "- for loop\n",
        "- how to import packages\n",
        "- logistic regression"
      ]
    },
    {
      "cell_type": "markdown",
      "metadata": {
        "id": "hBIbv_mhTS9E",
        "colab_type": "text"
      },
      "source": [
        "### Objects and Variables\n",
        "\n",
        "Python is an object-oriented programming (OOP) language. Everything is an object: variable, function, class, instancem etc. We can name an object as we wish (the concept of name space).\n"
      ]
    },
    {
      "cell_type": "code",
      "metadata": {
        "id": "EBoVnP-J0qkZ",
        "colab_type": "code",
        "colab": {}
      },
      "source": [
        "# What happens in a computer when running \"print(3)\"?\n",
        "print(3)\n",
        "print(3+7)"
      ],
      "execution_count": 0,
      "outputs": []
    },
    {
      "cell_type": "markdown",
      "metadata": {
        "id": "lRSOgj4l08dV",
        "colab_type": "text"
      },
      "source": [
        "컴퓨터 메모리에 3, 7이 올라오고, 3+7이 계산된 결과가 메모리에 저장된다. 이들 역시 모두 객체(object)이다. 그러나, 이 object를 참조할 방법이 없어서 이제 이 특정 객체들은 나중에 사용할 수 없다. "
      ]
    },
    {
      "cell_type": "code",
      "metadata": {
        "id": "4fZCWPY0TPfQ",
        "colab_type": "code",
        "colab": {}
      },
      "source": [
        "character_1 = \"awesome\"\n",
        "haha_1 = -3\n",
        "float_1 = -3.1234"
      ],
      "execution_count": 0,
      "outputs": []
    },
    {
      "cell_type": "markdown",
      "metadata": {
        "id": "aBq-m12c2zKw",
        "colab_type": "text"
      },
      "source": [
        "여기서 = 은 오른쪽 객체(object)를 왼쪽 변수(variable)에 assign 하라는 의미이다. 파이선에서는 name space라는 것이 있어서, 이 공간에서 변수를 관리한다. 사실 변수라는 것은 특정 개체를 가리키는 이름에 불과한 것 같다. 위 코드를 예를 들면, \"awesome\"이라는 문자 타입 객체와 character_1이라는 변수명을 연결시키라는 명령이다. \n",
        "\n",
        "이러한 assignment, 즉 변수명과 객체를 연결하는 순간에 적절한 name space에 그 변수가 생성되고, 그 변수가 어떠한 객체와 연결되는지에 대한 정보가 저장된다."
      ]
    },
    {
      "cell_type": "code",
      "metadata": {
        "id": "5yfTmOevVeTu",
        "colab_type": "code",
        "colab": {}
      },
      "source": [
        "print(-3) # 'print' is a function object which here takes -3 as an argument.\n",
        "print(character_1)\n",
        "print(awesome) # can you explain this error?"
      ],
      "execution_count": 0,
      "outputs": []
    },
    {
      "cell_type": "markdown",
      "metadata": {
        "id": "xtfeveREER7h",
        "colab_type": "text"
      },
      "source": [
        "함수(function) 역시 객체이다. \n",
        "함수는 괄호 안에 argument라는 것을 받는데, 이것도 객체이다. argument로 받는 객체의 종류에 따라 정해진 작업을 수행한다."
      ]
    },
    {
      "cell_type": "code",
      "metadata": {
        "id": "vGY_rF6daLP4",
        "colab_type": "code",
        "colab": {}
      },
      "source": [
        "awesome = 12345678\n",
        "print(awesome)"
      ],
      "execution_count": 0,
      "outputs": []
    },
    {
      "cell_type": "code",
      "metadata": {
        "id": "FH23B94PFrj0",
        "colab_type": "code",
        "colab": {
          "base_uri": "https://localhost:8080/",
          "height": 34
        },
        "outputId": "5d4c87fe-510b-4eff-b323-3f4022d01aca"
      },
      "source": [
        "# see the type of an object\n",
        "print(type(\"abc\"), type(3), type(-1.5), type(print), type(type))\n"
      ],
      "execution_count": 5,
      "outputs": [
        {
          "output_type": "stream",
          "text": [
            "<class 'str'> <class 'int'> <class 'float'> <class 'builtin_function_or_method'> <class 'type'>\n"
          ],
          "name": "stdout"
        }
      ]
    },
    {
      "cell_type": "code",
      "metadata": {
        "id": "foOcf-SdWUR5",
        "colab_type": "code",
        "outputId": "fd874fc2-3a14-41c7-c193-dab02cdf0c24",
        "colab": {
          "base_uri": "https://localhost:8080/",
          "height": 51
        }
      },
      "source": [
        "# can you explain the result of the following code?\n",
        "is_this_an_object_too = print(-3)\n",
        "print(is_this_an_object_too)"
      ],
      "execution_count": 6,
      "outputs": [
        {
          "output_type": "stream",
          "text": [
            "-3\n",
            "None\n"
          ],
          "name": "stdout"
        }
      ]
    },
    {
      "cell_type": "code",
      "metadata": {
        "id": "_Z-7_s5xXGQP",
        "colab_type": "code",
        "outputId": "5788e2b1-26e1-481d-fa55-6bd6ecd58c45",
        "colab": {
          "base_uri": "https://localhost:8080/",
          "height": 51
        }
      },
      "source": [
        "print(1, 2, 3, \"four\")\n",
        "print(\"four\" + \" five\", integer_1) "
      ],
      "execution_count": 0,
      "outputs": [
        {
          "output_type": "stream",
          "text": [
            "1 2 3 four\n",
            "four five -3\n"
          ],
          "name": "stdout"
        }
      ]
    },
    {
      "cell_type": "markdown",
      "metadata": {
        "id": "ZtRI_LiAWybJ",
        "colab_type": "text"
      },
      "source": [
        "### List\n",
        "- definition: 순서, 다양한 오브젝트들\n",
        "- the concept of method (class -> probably explain later)\n",
        "- two important methods of 'list' class: append and extend "
      ]
    },
    {
      "cell_type": "code",
      "metadata": {
        "id": "M56tgEoHXiG2",
        "colab_type": "code",
        "colab": {}
      },
      "source": [
        "list_1 = [1, 2, \"abcd\"] # don't forget comment out!!\n",
        "list_2 = [1, 2, float_1]\n",
        "\n",
        "example = {\"fruit\": [\"apple\", \"orange\"],\n",
        "           \"number\": [1, 2, 3, 4]}"
      ],
      "execution_count": 0,
      "outputs": []
    },
    {
      "cell_type": "code",
      "metadata": {
        "id": "gf1zDtt6cPkq",
        "colab_type": "code",
        "outputId": "6ad6be1f-2b1e-481d-dbef-f2ebd2fd9cb5",
        "colab": {
          "base_uri": "https://localhost:8080/",
          "height": 34
        }
      },
      "source": [
        "list_1[-1]"
      ],
      "execution_count": 0,
      "outputs": [
        {
          "output_type": "execute_result",
          "data": {
            "text/plain": [
              "'abcd'"
            ]
          },
          "metadata": {
            "tags": []
          },
          "execution_count": 16
        }
      ]
    },
    {
      "cell_type": "code",
      "metadata": {
        "id": "7vQtRWuSe-Ez",
        "colab_type": "code",
        "outputId": "2d274650-67ee-4331-8073-a0f09c52671b",
        "colab": {
          "base_uri": "https://localhost:8080/",
          "height": 85
        }
      },
      "source": [
        "import pandas as pd\n",
        "\n",
        "main = pd.read_csv(\"GBM_list.csv\")\n",
        "main.head(8)\n",
        "column_names = main.columns[3:6]\n",
        "\n",
        "print(column_names)\n",
        "\n",
        "for variable in column_names:\n",
        "  print(variable) \n",
        "  # univariate(variable) "
      ],
      "execution_count": 0,
      "outputs": [
        {
          "output_type": "stream",
          "text": [
            "Index(['sex', 'Age', 'KPS'], dtype='object')\n",
            "sex\n",
            "Age\n",
            "KPS\n"
          ],
          "name": "stdout"
        }
      ]
    },
    {
      "cell_type": "code",
      "metadata": {
        "id": "o8-js2gLYML6",
        "colab_type": "code",
        "outputId": "29d980d5-ae9c-4439-ddb9-9e24663c1eaa",
        "colab": {
          "base_uri": "https://localhost:8080/",
          "height": 34
        }
      },
      "source": [
        "print(list_1, list_2)"
      ],
      "execution_count": 0,
      "outputs": [
        {
          "output_type": "stream",
          "text": [
            "[1, 2, 'abcd'] [1, 2, -3.1234]\n"
          ],
          "name": "stdout"
        }
      ]
    },
    {
      "cell_type": "code",
      "metadata": {
        "id": "8jRh3dcJYukQ",
        "colab_type": "code",
        "outputId": "ded8df74-1243-4938-b157-f9c56152a27c",
        "colab": {
          "base_uri": "https://localhost:8080/",
          "height": 51
        }
      },
      "source": [
        "list_1.append(\"d\") \n",
        "print(list_1)\n",
        "list_1.append(list_2)\n",
        "print(list_1)"
      ],
      "execution_count": 0,
      "outputs": [
        {
          "output_type": "stream",
          "text": [
            "[1, 2, 'abcd', 'd']\n",
            "[1, 2, 'abcd', 'd', [1, 2, -3.1234]]\n"
          ],
          "name": "stdout"
        }
      ]
    },
    {
      "cell_type": "code",
      "metadata": {
        "id": "N3HG8fCiYSGc",
        "colab_type": "code",
        "outputId": "991c7d5f-3143-4ae5-be74-e0cb510cdf36",
        "colab": {
          "base_uri": "https://localhost:8080/",
          "height": 51
        }
      },
      "source": [
        "lists_1_and_2_appended = list_1.append(list_2)\n",
        "\n",
        "print(lists_1_and_2_appended)\n",
        "print(list_1)\n",
        "# can you explain the results?\n",
        "# the methods \"append\" and \"extend\" work \"in place\""
      ],
      "execution_count": 0,
      "outputs": [
        {
          "output_type": "stream",
          "text": [
            "None\n",
            "[1, 2, 'abcd', 'd', [1, 2, -3.1234], [1, 2, -3.1234]]\n"
          ],
          "name": "stdout"
        }
      ]
    },
    {
      "cell_type": "code",
      "metadata": {
        "id": "DTV-KvvjZST5",
        "colab_type": "code",
        "outputId": "c0ca8aba-219a-41fe-9f88-12f4565cfaa7",
        "colab": {
          "base_uri": "https://localhost:8080/",
          "height": 34
        }
      },
      "source": [
        "list_1 = [1, 2, \"abcd\"]\n",
        "list_2 = [1, 2, float_1]\n",
        "\n",
        "list_2.extend(list_1)\n",
        "print(list_2)"
      ],
      "execution_count": 0,
      "outputs": [
        {
          "output_type": "stream",
          "text": [
            "[1, 2, -3.1234, 1, 2, 'abcd']\n"
          ],
          "name": "stdout"
        }
      ]
    },
    {
      "cell_type": "markdown",
      "metadata": {
        "id": "1KmtIpzrb5Eb",
        "colab_type": "text"
      },
      "source": [
        "### subsetting"
      ]
    },
    {
      "cell_type": "code",
      "metadata": {
        "id": "KP_9BFgib4dz",
        "colab_type": "code",
        "outputId": "00382495-1e6a-4176-9a19-09f0e15ff7b7",
        "colab": {
          "base_uri": "https://localhost:8080/",
          "height": 102
        }
      },
      "source": [
        "print(list_2)\n",
        "print(list_2[0])\n",
        "print(list_2[:2])\n",
        "print(list_2[-1])\n",
        "print(list_2[1:3])"
      ],
      "execution_count": 0,
      "outputs": [
        {
          "output_type": "stream",
          "text": [
            "[1, 2, -3.1234, 1, 2, 'abcd']\n",
            "1\n",
            "[1, 2]\n",
            "2\n",
            "[2, -3.1234]\n"
          ],
          "name": "stdout"
        }
      ]
    },
    {
      "cell_type": "markdown",
      "metadata": {
        "id": "fX8otBcUbJHl",
        "colab_type": "text"
      },
      "source": [
        "### For loop"
      ]
    },
    {
      "cell_type": "code",
      "metadata": {
        "id": "xjIfvn4nbI0s",
        "colab_type": "code",
        "outputId": "78d2ade7-29f6-4cd3-c459-8724da6dd9fa",
        "colab": {
          "base_uri": "https://localhost:8080/",
          "height": 119
        }
      },
      "source": [
        "for i in [1, 2, 3, 4, 5]:\n",
        "  print(i) # the concept of variable scope \n",
        "           # (Pythonian way; may not be super efficient \n",
        "           # but easy to understand and implement, I think)\n",
        "\n",
        "print(i)"
      ],
      "execution_count": 0,
      "outputs": [
        {
          "output_type": "stream",
          "text": [
            "1\n",
            "2\n",
            "3\n",
            "4\n",
            "5\n",
            "5\n"
          ],
          "name": "stdout"
        }
      ]
    },
    {
      "cell_type": "code",
      "metadata": {
        "id": "KPmuDb2gbSBR",
        "colab_type": "code",
        "outputId": "cd33d243-107b-49f1-f0b5-ea4a6c6e6684",
        "colab": {
          "base_uri": "https://localhost:8080/",
          "height": 68
        }
      },
      "source": [
        "list_1 = [1, 2, \"abcd\"]\n",
        "\n",
        "for i in list_1:\n",
        "  print(i)"
      ],
      "execution_count": 0,
      "outputs": [
        {
          "output_type": "stream",
          "text": [
            "1\n",
            "2\n",
            "abcd\n"
          ],
          "name": "stdout"
        }
      ]
    }
  ]
}