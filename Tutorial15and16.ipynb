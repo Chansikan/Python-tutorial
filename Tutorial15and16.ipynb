{
  "nbformat": 4,
  "nbformat_minor": 0,
  "metadata": {
    "colab": {
      "name": "Tutorial15and16.ipynb",
      "provenance": [],
      "collapsed_sections": [],
      "authorship_tag": "ABX9TyNA5sJS/7Qhsg2hBwSYImc5",
      "include_colab_link": true
    },
    "kernelspec": {
      "name": "python3",
      "display_name": "Python 3"
    }
  },
  "cells": [
    {
      "cell_type": "markdown",
      "metadata": {
        "id": "view-in-github",
        "colab_type": "text"
      },
      "source": [
        "<a href=\"https://colab.research.google.com/github/Chansikan/Python-tutorial/blob/master/Tutorial15and16.ipynb\" target=\"_parent\"><img src=\"https://colab.research.google.com/assets/colab-badge.svg\" alt=\"Open In Colab\"/></a>"
      ]
    },
    {
      "cell_type": "markdown",
      "metadata": {
        "id": "cm7T1ArJBEYt",
        "colab_type": "text"
      },
      "source": [
        "# Let's learn Python together!\n",
        "#### *for machine learning researchers without computer science background*\n",
        "\n",
        "## Lesson 15, 16: Subsetting DataFrame\n",
        "\n",
        "### **Different choices for indexing**\n",
        "\n",
        "1. Indexer (i.e., [ ]) 사용\n",
        "\n",
        "2. Method (i.e., loc, iloc) 사용 (recommended; robust and consistent)\n",
        "  - Selection by label, using 'loc' method\n",
        "  - Selection by position, using 'iloc' method\n"
      ]
    },
    {
      "cell_type": "code",
      "metadata": {
        "id": "dOS75G6pBDrg",
        "colab_type": "code",
        "outputId": "92a149e1-360f-49c6-d98c-d0678a1cb423",
        "colab": {
          "base_uri": "https://localhost:8080/",
          "height": 204
        }
      },
      "source": [
        "import numpy as np\n",
        "import pandas as pd\n",
        "\n",
        "# dictionary of 5 patients\n",
        "gbm_dict = {\n",
        "    'MRN': ['1234567', '1234568', '1234569', '1234570', '1234571'],\n",
        "    'age': [60, 70, 65, 76, 63],\n",
        "    'sex': ['male', 'female', 'female', 'male', 'male'],\n",
        "    'PS': [90, 80, 50, 70, 100],\n",
        "    'gene_mt': [1, 0, 1, 0, 1], \n",
        "    'EOR': ['subtotal', 'total', 'biopsy', 'partial', 'total'],\n",
        "    'death': [1, 0, 0, 1, 1], \n",
        "    'survival': [300, 220, 400, 320, 280]\n",
        "}\n",
        "\n",
        "gbm_df = pd.DataFrame.from_dict(gbm_dict)\n",
        "\n",
        "gbm_df"
      ],
      "execution_count": 0,
      "outputs": [
        {
          "output_type": "execute_result",
          "data": {
            "text/html": [
              "<div>\n",
              "<style scoped>\n",
              "    .dataframe tbody tr th:only-of-type {\n",
              "        vertical-align: middle;\n",
              "    }\n",
              "\n",
              "    .dataframe tbody tr th {\n",
              "        vertical-align: top;\n",
              "    }\n",
              "\n",
              "    .dataframe thead th {\n",
              "        text-align: right;\n",
              "    }\n",
              "</style>\n",
              "<table border=\"1\" class=\"dataframe\">\n",
              "  <thead>\n",
              "    <tr style=\"text-align: right;\">\n",
              "      <th></th>\n",
              "      <th>MRN</th>\n",
              "      <th>age</th>\n",
              "      <th>sex</th>\n",
              "      <th>PS</th>\n",
              "      <th>gene_mt</th>\n",
              "      <th>EOR</th>\n",
              "      <th>death</th>\n",
              "      <th>survival</th>\n",
              "    </tr>\n",
              "  </thead>\n",
              "  <tbody>\n",
              "    <tr>\n",
              "      <th>0</th>\n",
              "      <td>1234567</td>\n",
              "      <td>60</td>\n",
              "      <td>male</td>\n",
              "      <td>90</td>\n",
              "      <td>1</td>\n",
              "      <td>subtotal</td>\n",
              "      <td>1</td>\n",
              "      <td>300</td>\n",
              "    </tr>\n",
              "    <tr>\n",
              "      <th>1</th>\n",
              "      <td>1234568</td>\n",
              "      <td>70</td>\n",
              "      <td>female</td>\n",
              "      <td>80</td>\n",
              "      <td>0</td>\n",
              "      <td>total</td>\n",
              "      <td>0</td>\n",
              "      <td>220</td>\n",
              "    </tr>\n",
              "    <tr>\n",
              "      <th>2</th>\n",
              "      <td>1234569</td>\n",
              "      <td>65</td>\n",
              "      <td>female</td>\n",
              "      <td>50</td>\n",
              "      <td>1</td>\n",
              "      <td>biopsy</td>\n",
              "      <td>0</td>\n",
              "      <td>400</td>\n",
              "    </tr>\n",
              "    <tr>\n",
              "      <th>3</th>\n",
              "      <td>1234570</td>\n",
              "      <td>76</td>\n",
              "      <td>male</td>\n",
              "      <td>70</td>\n",
              "      <td>0</td>\n",
              "      <td>partial</td>\n",
              "      <td>1</td>\n",
              "      <td>320</td>\n",
              "    </tr>\n",
              "    <tr>\n",
              "      <th>4</th>\n",
              "      <td>1234571</td>\n",
              "      <td>63</td>\n",
              "      <td>male</td>\n",
              "      <td>100</td>\n",
              "      <td>1</td>\n",
              "      <td>total</td>\n",
              "      <td>1</td>\n",
              "      <td>280</td>\n",
              "    </tr>\n",
              "  </tbody>\n",
              "</table>\n",
              "</div>"
            ],
            "text/plain": [
              "       MRN  age     sex   PS  gene_mt       EOR  death  survival\n",
              "0  1234567   60    male   90        1  subtotal      1       300\n",
              "1  1234568   70  female   80        0     total      0       220\n",
              "2  1234569   65  female   50        1    biopsy      0       400\n",
              "3  1234570   76    male   70        0   partial      1       320\n",
              "4  1234571   63    male  100        1     total      1       280"
            ]
          },
          "metadata": {
            "tags": []
          },
          "execution_count": 1
        }
      ]
    },
    {
      "cell_type": "markdown",
      "metadata": {
        "id": "1L0B-59dDSGp",
        "colab_type": "text"
      },
      "source": [
        "### 1) Using [ ]\n",
        "A. 하나 혹은 다수의 label을 이용하여 Series의 value or item 혹은 DataFrame의 ***column***을 추출"
      ]
    },
    {
      "cell_type": "code",
      "metadata": {
        "id": "YaQJV2_JC4JJ",
        "colab_type": "code",
        "outputId": "5b59eb07-a7c1-46f2-a5ae-af8d13b53257",
        "colab": {
          "base_uri": "https://localhost:8080/",
          "height": 204
        }
      },
      "source": [
        "### DataFrame['column_name']\n",
        "# single column\n",
        "d = gbm_df['MRN']\n",
        "\n",
        "# multiple columns\n",
        "gbm_df[ ['MRN', 'age'] ]\n",
        "\n",
        "# answering to a question from a viwer..."
      ],
      "execution_count": 0,
      "outputs": [
        {
          "output_type": "execute_result",
          "data": {
            "text/html": [
              "<div>\n",
              "<style scoped>\n",
              "    .dataframe tbody tr th:only-of-type {\n",
              "        vertical-align: middle;\n",
              "    }\n",
              "\n",
              "    .dataframe tbody tr th {\n",
              "        vertical-align: top;\n",
              "    }\n",
              "\n",
              "    .dataframe thead th {\n",
              "        text-align: right;\n",
              "    }\n",
              "</style>\n",
              "<table border=\"1\" class=\"dataframe\">\n",
              "  <thead>\n",
              "    <tr style=\"text-align: right;\">\n",
              "      <th></th>\n",
              "      <th>MRN</th>\n",
              "      <th>age</th>\n",
              "    </tr>\n",
              "  </thead>\n",
              "  <tbody>\n",
              "    <tr>\n",
              "      <th>0</th>\n",
              "      <td>1234567</td>\n",
              "      <td>60</td>\n",
              "    </tr>\n",
              "    <tr>\n",
              "      <th>1</th>\n",
              "      <td>1234568</td>\n",
              "      <td>70</td>\n",
              "    </tr>\n",
              "    <tr>\n",
              "      <th>2</th>\n",
              "      <td>1234569</td>\n",
              "      <td>65</td>\n",
              "    </tr>\n",
              "    <tr>\n",
              "      <th>3</th>\n",
              "      <td>1234570</td>\n",
              "      <td>76</td>\n",
              "    </tr>\n",
              "    <tr>\n",
              "      <th>4</th>\n",
              "      <td>1234571</td>\n",
              "      <td>63</td>\n",
              "    </tr>\n",
              "  </tbody>\n",
              "</table>\n",
              "</div>"
            ],
            "text/plain": [
              "       MRN  age\n",
              "0  1234567   60\n",
              "1  1234568   70\n",
              "2  1234569   65\n",
              "3  1234570   76\n",
              "4  1234571   63"
            ]
          },
          "metadata": {
            "tags": []
          },
          "execution_count": 4
        }
      ]
    },
    {
      "cell_type": "code",
      "metadata": {
        "id": "rVB-qZE_IFHY",
        "colab_type": "code",
        "outputId": "d83d0e3a-13a9-43a4-8728-347b33fc46b6",
        "colab": {
          "base_uri": "https://localhost:8080/",
          "height": 34
        }
      },
      "source": [
        "### NUMPY\n",
        "import numpy as np\n",
        "c = np.array([[1, 2, 3, 4],\n",
        "               [5, 6, 7, 8]])\n",
        "row_index = 1\n",
        "col_index = [0, 2]\n",
        "#c[row_index, col_index]\n",
        "c[row_index, col_index]"
      ],
      "execution_count": 0,
      "outputs": [
        {
          "output_type": "execute_result",
          "data": {
            "text/plain": [
              "array([5, 7])"
            ]
          },
          "metadata": {
            "tags": []
          },
          "execution_count": 10
        }
      ]
    },
    {
      "cell_type": "code",
      "metadata": {
        "id": "brgKnbD6F5TA",
        "colab_type": "code",
        "outputId": "be24ee70-824c-4d54-c747-bd3e0c540984",
        "colab": {
          "base_uri": "https://localhost:8080/",
          "height": 221
        }
      },
      "source": [
        "# select columns with a different order\n",
        "print(gbm_df[['MRN', 'age']])\n",
        "print(gbm_df[['age', 'MRN']])"
      ],
      "execution_count": 0,
      "outputs": [
        {
          "output_type": "stream",
          "text": [
            "       MRN  age\n",
            "0  1234567   60\n",
            "1  1234568   70\n",
            "2  1234569   65\n",
            "3  1234570   76\n",
            "4  1234571   63\n",
            "   age      MRN\n",
            "0   60  1234567\n",
            "1   70  1234568\n",
            "2   65  1234569\n",
            "3   76  1234570\n",
            "4   63  1234571\n"
          ],
          "name": "stdout"
        }
      ]
    },
    {
      "cell_type": "code",
      "metadata": {
        "id": "dZXC-OjxGOR6",
        "colab_type": "code",
        "outputId": "840b4634-c089-401a-ed37-c69f6a669eb4",
        "colab": {
          "base_uri": "https://localhost:8080/",
          "height": 204
        }
      },
      "source": [
        "# swap the values?\n",
        "gbm_df[['MRN', 'age']] = gbm_df[['age', 'MRN']]\n",
        "gbm_df['test'] = [1, 2, 3, 4, 5]\n",
        "gbm_df"
      ],
      "execution_count": 0,
      "outputs": [
        {
          "output_type": "execute_result",
          "data": {
            "text/html": [
              "<div>\n",
              "<style scoped>\n",
              "    .dataframe tbody tr th:only-of-type {\n",
              "        vertical-align: middle;\n",
              "    }\n",
              "\n",
              "    .dataframe tbody tr th {\n",
              "        vertical-align: top;\n",
              "    }\n",
              "\n",
              "    .dataframe thead th {\n",
              "        text-align: right;\n",
              "    }\n",
              "</style>\n",
              "<table border=\"1\" class=\"dataframe\">\n",
              "  <thead>\n",
              "    <tr style=\"text-align: right;\">\n",
              "      <th></th>\n",
              "      <th>MRN</th>\n",
              "      <th>age</th>\n",
              "      <th>sex</th>\n",
              "      <th>PS</th>\n",
              "      <th>gene_mt</th>\n",
              "      <th>EOR</th>\n",
              "      <th>death</th>\n",
              "      <th>survival</th>\n",
              "      <th>test</th>\n",
              "    </tr>\n",
              "  </thead>\n",
              "  <tbody>\n",
              "    <tr>\n",
              "      <th>0</th>\n",
              "      <td>1234567</td>\n",
              "      <td>60</td>\n",
              "      <td>male</td>\n",
              "      <td>90</td>\n",
              "      <td>1</td>\n",
              "      <td>subtotal</td>\n",
              "      <td>1</td>\n",
              "      <td>300</td>\n",
              "      <td>1</td>\n",
              "    </tr>\n",
              "    <tr>\n",
              "      <th>1</th>\n",
              "      <td>1234568</td>\n",
              "      <td>70</td>\n",
              "      <td>female</td>\n",
              "      <td>80</td>\n",
              "      <td>0</td>\n",
              "      <td>total</td>\n",
              "      <td>0</td>\n",
              "      <td>220</td>\n",
              "      <td>2</td>\n",
              "    </tr>\n",
              "    <tr>\n",
              "      <th>2</th>\n",
              "      <td>1234569</td>\n",
              "      <td>65</td>\n",
              "      <td>female</td>\n",
              "      <td>50</td>\n",
              "      <td>1</td>\n",
              "      <td>biopsy</td>\n",
              "      <td>0</td>\n",
              "      <td>400</td>\n",
              "      <td>3</td>\n",
              "    </tr>\n",
              "    <tr>\n",
              "      <th>3</th>\n",
              "      <td>1234570</td>\n",
              "      <td>76</td>\n",
              "      <td>male</td>\n",
              "      <td>70</td>\n",
              "      <td>0</td>\n",
              "      <td>partial</td>\n",
              "      <td>1</td>\n",
              "      <td>320</td>\n",
              "      <td>4</td>\n",
              "    </tr>\n",
              "    <tr>\n",
              "      <th>4</th>\n",
              "      <td>1234571</td>\n",
              "      <td>63</td>\n",
              "      <td>male</td>\n",
              "      <td>100</td>\n",
              "      <td>1</td>\n",
              "      <td>total</td>\n",
              "      <td>1</td>\n",
              "      <td>280</td>\n",
              "      <td>5</td>\n",
              "    </tr>\n",
              "  </tbody>\n",
              "</table>\n",
              "</div>"
            ],
            "text/plain": [
              "       MRN  age     sex   PS  gene_mt       EOR  death  survival  test\n",
              "0  1234567   60    male   90        1  subtotal      1       300     1\n",
              "1  1234568   70  female   80        0     total      0       220     2\n",
              "2  1234569   65  female   50        1    biopsy      0       400     3\n",
              "3  1234570   76    male   70        0   partial      1       320     4\n",
              "4  1234571   63    male  100        1     total      1       280     5"
            ]
          },
          "metadata": {
            "tags": []
          },
          "execution_count": 14
        }
      ]
    },
    {
      "cell_type": "code",
      "metadata": {
        "id": "XpAhgTO5Dqjq",
        "colab_type": "code",
        "outputId": "8464c6ff-0a71-4783-eccb-18430cc5bfc1",
        "colab": {
          "base_uri": "https://localhost:8080/",
          "height": 119
        }
      },
      "source": [
        "### Series[label]\n",
        "gbm_series = gbm_df['age']\n",
        "gbm_series\n",
        "#gbm_series.index = ['a', 'b', 'c', 'd', 'e']\n",
        "\n",
        "#gbm_series2 = gbm_df.loc[2]\n",
        "\n",
        "#gbm_series2[['MRN', 'PS', 'EOR']]"
      ],
      "execution_count": 0,
      "outputs": [
        {
          "output_type": "execute_result",
          "data": {
            "text/plain": [
              "0    60\n",
              "1    70\n",
              "2    65\n",
              "3    76\n",
              "4    63\n",
              "Name: age, dtype: int64"
            ]
          },
          "metadata": {
            "tags": []
          },
          "execution_count": 15
        }
      ]
    },
    {
      "cell_type": "markdown",
      "metadata": {
        "id": "j3yEowpxDxHU",
        "colab_type": "text"
      },
      "source": [
        "B. 위치를 나타내는 정수 값을 넣어 Series의 value or item 혹은 DataFrame의 ***row***을 추출"
      ]
    },
    {
      "cell_type": "code",
      "metadata": {
        "id": "xwhi6LObPMs1",
        "colab_type": "code",
        "outputId": "70d7d90d-753c-4f33-c5a6-4bee85e511d9",
        "colab": {
          "base_uri": "https://localhost:8080/",
          "height": 204
        }
      },
      "source": [
        "### Series\n",
        "gbm_df"
      ],
      "execution_count": 0,
      "outputs": [
        {
          "output_type": "execute_result",
          "data": {
            "text/html": [
              "<div>\n",
              "<style scoped>\n",
              "    .dataframe tbody tr th:only-of-type {\n",
              "        vertical-align: middle;\n",
              "    }\n",
              "\n",
              "    .dataframe tbody tr th {\n",
              "        vertical-align: top;\n",
              "    }\n",
              "\n",
              "    .dataframe thead th {\n",
              "        text-align: right;\n",
              "    }\n",
              "</style>\n",
              "<table border=\"1\" class=\"dataframe\">\n",
              "  <thead>\n",
              "    <tr style=\"text-align: right;\">\n",
              "      <th></th>\n",
              "      <th>MRN</th>\n",
              "      <th>age</th>\n",
              "      <th>sex</th>\n",
              "      <th>PS</th>\n",
              "      <th>gene_mt</th>\n",
              "      <th>EOR</th>\n",
              "      <th>death</th>\n",
              "      <th>survival</th>\n",
              "      <th>test</th>\n",
              "    </tr>\n",
              "  </thead>\n",
              "  <tbody>\n",
              "    <tr>\n",
              "      <th>0</th>\n",
              "      <td>1234567</td>\n",
              "      <td>60</td>\n",
              "      <td>male</td>\n",
              "      <td>90</td>\n",
              "      <td>1</td>\n",
              "      <td>subtotal</td>\n",
              "      <td>1</td>\n",
              "      <td>300</td>\n",
              "      <td>1</td>\n",
              "    </tr>\n",
              "    <tr>\n",
              "      <th>1</th>\n",
              "      <td>1234568</td>\n",
              "      <td>70</td>\n",
              "      <td>female</td>\n",
              "      <td>80</td>\n",
              "      <td>0</td>\n",
              "      <td>total</td>\n",
              "      <td>0</td>\n",
              "      <td>220</td>\n",
              "      <td>2</td>\n",
              "    </tr>\n",
              "    <tr>\n",
              "      <th>2</th>\n",
              "      <td>1234569</td>\n",
              "      <td>65</td>\n",
              "      <td>female</td>\n",
              "      <td>50</td>\n",
              "      <td>1</td>\n",
              "      <td>biopsy</td>\n",
              "      <td>0</td>\n",
              "      <td>400</td>\n",
              "      <td>3</td>\n",
              "    </tr>\n",
              "    <tr>\n",
              "      <th>3</th>\n",
              "      <td>1234570</td>\n",
              "      <td>76</td>\n",
              "      <td>male</td>\n",
              "      <td>70</td>\n",
              "      <td>0</td>\n",
              "      <td>partial</td>\n",
              "      <td>1</td>\n",
              "      <td>320</td>\n",
              "      <td>4</td>\n",
              "    </tr>\n",
              "    <tr>\n",
              "      <th>4</th>\n",
              "      <td>1234571</td>\n",
              "      <td>63</td>\n",
              "      <td>male</td>\n",
              "      <td>100</td>\n",
              "      <td>1</td>\n",
              "      <td>total</td>\n",
              "      <td>1</td>\n",
              "      <td>280</td>\n",
              "      <td>5</td>\n",
              "    </tr>\n",
              "  </tbody>\n",
              "</table>\n",
              "</div>"
            ],
            "text/plain": [
              "       MRN  age     sex   PS  gene_mt       EOR  death  survival  test\n",
              "0  1234567   60    male   90        1  subtotal      1       300     1\n",
              "1  1234568   70  female   80        0     total      0       220     2\n",
              "2  1234569   65  female   50        1    biopsy      0       400     3\n",
              "3  1234570   76    male   70        0   partial      1       320     4\n",
              "4  1234571   63    male  100        1     total      1       280     5"
            ]
          },
          "metadata": {
            "tags": []
          },
          "execution_count": 18
        }
      ]
    },
    {
      "cell_type": "code",
      "metadata": {
        "id": "-ihE7T_AD27N",
        "colab_type": "code",
        "outputId": "0aa38451-4c37-42b7-abbf-27b8dc99bff7",
        "colab": {
          "base_uri": "https://localhost:8080/",
          "height": 130
        }
      },
      "source": [
        "### DataFrame\n",
        "gbm_df[,2:3]\n",
        "# NOTE: Using this method, we can slice the ranges of a dataframe, \n",
        "#       but cannot select a single row.\n",
        "\n",
        "#gbm_df[2, 3]\n",
        "\n",
        "# loc, iloc"
      ],
      "execution_count": 0,
      "outputs": [
        {
          "output_type": "error",
          "ename": "SyntaxError",
          "evalue": "ignored",
          "traceback": [
            "\u001b[0;36m  File \u001b[0;32m\"<ipython-input-22-f05477834b7b>\"\u001b[0;36m, line \u001b[0;32m1\u001b[0m\n\u001b[0;31m    gbm_df[,2:3]\u001b[0m\n\u001b[0m           ^\u001b[0m\n\u001b[0;31mSyntaxError\u001b[0m\u001b[0;31m:\u001b[0m invalid syntax\n"
          ]
        }
      ]
    },
    {
      "cell_type": "markdown",
      "metadata": {
        "id": "KYbVFifNIzZv",
        "colab_type": "text"
      },
      "source": [
        "### 2) Using loc or iloc\n",
        "  - Selection by label, using 'loc' method\n",
        "  - Selection by position, using 'iloc' method\n"
      ]
    },
    {
      "cell_type": "code",
      "metadata": {
        "id": "UhsW2b4ltTfO",
        "colab_type": "code",
        "outputId": "587327c9-6b59-4b82-e467-46194bbd7db3",
        "colab": {
          "base_uri": "https://localhost:8080/",
          "height": 204
        }
      },
      "source": [
        "gbm_df"
      ],
      "execution_count": 0,
      "outputs": [
        {
          "output_type": "execute_result",
          "data": {
            "text/html": [
              "<div>\n",
              "<style scoped>\n",
              "    .dataframe tbody tr th:only-of-type {\n",
              "        vertical-align: middle;\n",
              "    }\n",
              "\n",
              "    .dataframe tbody tr th {\n",
              "        vertical-align: top;\n",
              "    }\n",
              "\n",
              "    .dataframe thead th {\n",
              "        text-align: right;\n",
              "    }\n",
              "</style>\n",
              "<table border=\"1\" class=\"dataframe\">\n",
              "  <thead>\n",
              "    <tr style=\"text-align: right;\">\n",
              "      <th></th>\n",
              "      <th>MRN</th>\n",
              "      <th>age</th>\n",
              "      <th>sex</th>\n",
              "      <th>PS</th>\n",
              "      <th>gene_mt</th>\n",
              "      <th>EOR</th>\n",
              "      <th>death</th>\n",
              "      <th>survival</th>\n",
              "      <th>test</th>\n",
              "    </tr>\n",
              "  </thead>\n",
              "  <tbody>\n",
              "    <tr>\n",
              "      <th>0</th>\n",
              "      <td>1234567</td>\n",
              "      <td>60</td>\n",
              "      <td>male</td>\n",
              "      <td>90</td>\n",
              "      <td>1</td>\n",
              "      <td>subtotal</td>\n",
              "      <td>1</td>\n",
              "      <td>300</td>\n",
              "      <td>1</td>\n",
              "    </tr>\n",
              "    <tr>\n",
              "      <th>1</th>\n",
              "      <td>1234568</td>\n",
              "      <td>70</td>\n",
              "      <td>female</td>\n",
              "      <td>80</td>\n",
              "      <td>0</td>\n",
              "      <td>total</td>\n",
              "      <td>0</td>\n",
              "      <td>220</td>\n",
              "      <td>2</td>\n",
              "    </tr>\n",
              "    <tr>\n",
              "      <th>2</th>\n",
              "      <td>1234569</td>\n",
              "      <td>65</td>\n",
              "      <td>female</td>\n",
              "      <td>50</td>\n",
              "      <td>1</td>\n",
              "      <td>biopsy</td>\n",
              "      <td>0</td>\n",
              "      <td>400</td>\n",
              "      <td>3</td>\n",
              "    </tr>\n",
              "    <tr>\n",
              "      <th>3</th>\n",
              "      <td>1234570</td>\n",
              "      <td>76</td>\n",
              "      <td>male</td>\n",
              "      <td>70</td>\n",
              "      <td>0</td>\n",
              "      <td>partial</td>\n",
              "      <td>1</td>\n",
              "      <td>320</td>\n",
              "      <td>4</td>\n",
              "    </tr>\n",
              "    <tr>\n",
              "      <th>4</th>\n",
              "      <td>1234571</td>\n",
              "      <td>63</td>\n",
              "      <td>male</td>\n",
              "      <td>100</td>\n",
              "      <td>1</td>\n",
              "      <td>total</td>\n",
              "      <td>1</td>\n",
              "      <td>280</td>\n",
              "      <td>5</td>\n",
              "    </tr>\n",
              "  </tbody>\n",
              "</table>\n",
              "</div>"
            ],
            "text/plain": [
              "       MRN  age     sex   PS  gene_mt       EOR  death  survival  test\n",
              "0  1234567   60    male   90        1  subtotal      1       300     1\n",
              "1  1234568   70  female   80        0     total      0       220     2\n",
              "2  1234569   65  female   50        1    biopsy      0       400     3\n",
              "3  1234570   76    male   70        0   partial      1       320     4\n",
              "4  1234571   63    male  100        1     total      1       280     5"
            ]
          },
          "metadata": {
            "tags": []
          },
          "execution_count": 23
        }
      ]
    },
    {
      "cell_type": "code",
      "metadata": {
        "id": "ij79yKYGKd6l",
        "colab_type": "code",
        "outputId": "a5af2f95-289d-40a6-f633-d4d23590f3a3",
        "colab": {
          "base_uri": "https://localhost:8080/",
          "height": 235
        }
      },
      "source": [
        "# Set the index to become the 'MRN' column\n",
        "gbm_df.set_index('MRN', inplace=True)\n",
        "# check the type of MRN: column vs. index\n",
        "gbm_df"
      ],
      "execution_count": 0,
      "outputs": [
        {
          "output_type": "execute_result",
          "data": {
            "text/html": [
              "<div>\n",
              "<style scoped>\n",
              "    .dataframe tbody tr th:only-of-type {\n",
              "        vertical-align: middle;\n",
              "    }\n",
              "\n",
              "    .dataframe tbody tr th {\n",
              "        vertical-align: top;\n",
              "    }\n",
              "\n",
              "    .dataframe thead th {\n",
              "        text-align: right;\n",
              "    }\n",
              "</style>\n",
              "<table border=\"1\" class=\"dataframe\">\n",
              "  <thead>\n",
              "    <tr style=\"text-align: right;\">\n",
              "      <th></th>\n",
              "      <th>age</th>\n",
              "      <th>sex</th>\n",
              "      <th>PS</th>\n",
              "      <th>gene_mt</th>\n",
              "      <th>EOR</th>\n",
              "      <th>death</th>\n",
              "      <th>survival</th>\n",
              "      <th>test</th>\n",
              "    </tr>\n",
              "    <tr>\n",
              "      <th>MRN</th>\n",
              "      <th></th>\n",
              "      <th></th>\n",
              "      <th></th>\n",
              "      <th></th>\n",
              "      <th></th>\n",
              "      <th></th>\n",
              "      <th></th>\n",
              "      <th></th>\n",
              "    </tr>\n",
              "  </thead>\n",
              "  <tbody>\n",
              "    <tr>\n",
              "      <th>1234567</th>\n",
              "      <td>60</td>\n",
              "      <td>male</td>\n",
              "      <td>90</td>\n",
              "      <td>1</td>\n",
              "      <td>subtotal</td>\n",
              "      <td>1</td>\n",
              "      <td>300</td>\n",
              "      <td>1</td>\n",
              "    </tr>\n",
              "    <tr>\n",
              "      <th>1234568</th>\n",
              "      <td>70</td>\n",
              "      <td>female</td>\n",
              "      <td>80</td>\n",
              "      <td>0</td>\n",
              "      <td>total</td>\n",
              "      <td>0</td>\n",
              "      <td>220</td>\n",
              "      <td>2</td>\n",
              "    </tr>\n",
              "    <tr>\n",
              "      <th>1234569</th>\n",
              "      <td>65</td>\n",
              "      <td>female</td>\n",
              "      <td>50</td>\n",
              "      <td>1</td>\n",
              "      <td>biopsy</td>\n",
              "      <td>0</td>\n",
              "      <td>400</td>\n",
              "      <td>3</td>\n",
              "    </tr>\n",
              "    <tr>\n",
              "      <th>1234570</th>\n",
              "      <td>76</td>\n",
              "      <td>male</td>\n",
              "      <td>70</td>\n",
              "      <td>0</td>\n",
              "      <td>partial</td>\n",
              "      <td>1</td>\n",
              "      <td>320</td>\n",
              "      <td>4</td>\n",
              "    </tr>\n",
              "    <tr>\n",
              "      <th>1234571</th>\n",
              "      <td>63</td>\n",
              "      <td>male</td>\n",
              "      <td>100</td>\n",
              "      <td>1</td>\n",
              "      <td>total</td>\n",
              "      <td>1</td>\n",
              "      <td>280</td>\n",
              "      <td>5</td>\n",
              "    </tr>\n",
              "  </tbody>\n",
              "</table>\n",
              "</div>"
            ],
            "text/plain": [
              "         age     sex   PS  gene_mt       EOR  death  survival  test\n",
              "MRN                                                                \n",
              "1234567   60    male   90        1  subtotal      1       300     1\n",
              "1234568   70  female   80        0     total      0       220     2\n",
              "1234569   65  female   50        1    biopsy      0       400     3\n",
              "1234570   76    male   70        0   partial      1       320     4\n",
              "1234571   63    male  100        1     total      1       280     5"
            ]
          },
          "metadata": {
            "tags": []
          },
          "execution_count": 26
        }
      ]
    },
    {
      "cell_type": "code",
      "metadata": {
        "id": "H9TGuum3I62I",
        "colab_type": "code",
        "outputId": "44160dc9-d870-4ee2-e477-fe57754c9e08",
        "colab": {
          "base_uri": "https://localhost:8080/",
          "height": 235
        }
      },
      "source": [
        "# .loc: select by label\n",
        "# 1) without dimension\n",
        "gbm_df.loc[::-1]\n",
        "\n",
        "# 2) with dimension (row and column)\n",
        "#gbm_df.loc[:, 'PS':]"
      ],
      "execution_count": 0,
      "outputs": [
        {
          "output_type": "execute_result",
          "data": {
            "text/html": [
              "<div>\n",
              "<style scoped>\n",
              "    .dataframe tbody tr th:only-of-type {\n",
              "        vertical-align: middle;\n",
              "    }\n",
              "\n",
              "    .dataframe tbody tr th {\n",
              "        vertical-align: top;\n",
              "    }\n",
              "\n",
              "    .dataframe thead th {\n",
              "        text-align: right;\n",
              "    }\n",
              "</style>\n",
              "<table border=\"1\" class=\"dataframe\">\n",
              "  <thead>\n",
              "    <tr style=\"text-align: right;\">\n",
              "      <th></th>\n",
              "      <th>age</th>\n",
              "      <th>sex</th>\n",
              "      <th>PS</th>\n",
              "      <th>gene_mt</th>\n",
              "      <th>EOR</th>\n",
              "      <th>death</th>\n",
              "      <th>survival</th>\n",
              "      <th>test</th>\n",
              "    </tr>\n",
              "    <tr>\n",
              "      <th>MRN</th>\n",
              "      <th></th>\n",
              "      <th></th>\n",
              "      <th></th>\n",
              "      <th></th>\n",
              "      <th></th>\n",
              "      <th></th>\n",
              "      <th></th>\n",
              "      <th></th>\n",
              "    </tr>\n",
              "  </thead>\n",
              "  <tbody>\n",
              "    <tr>\n",
              "      <th>1234571</th>\n",
              "      <td>63</td>\n",
              "      <td>male</td>\n",
              "      <td>100</td>\n",
              "      <td>1</td>\n",
              "      <td>total</td>\n",
              "      <td>1</td>\n",
              "      <td>280</td>\n",
              "      <td>5</td>\n",
              "    </tr>\n",
              "    <tr>\n",
              "      <th>1234570</th>\n",
              "      <td>76</td>\n",
              "      <td>male</td>\n",
              "      <td>70</td>\n",
              "      <td>0</td>\n",
              "      <td>partial</td>\n",
              "      <td>1</td>\n",
              "      <td>320</td>\n",
              "      <td>4</td>\n",
              "    </tr>\n",
              "    <tr>\n",
              "      <th>1234569</th>\n",
              "      <td>65</td>\n",
              "      <td>female</td>\n",
              "      <td>50</td>\n",
              "      <td>1</td>\n",
              "      <td>biopsy</td>\n",
              "      <td>0</td>\n",
              "      <td>400</td>\n",
              "      <td>3</td>\n",
              "    </tr>\n",
              "    <tr>\n",
              "      <th>1234568</th>\n",
              "      <td>70</td>\n",
              "      <td>female</td>\n",
              "      <td>80</td>\n",
              "      <td>0</td>\n",
              "      <td>total</td>\n",
              "      <td>0</td>\n",
              "      <td>220</td>\n",
              "      <td>2</td>\n",
              "    </tr>\n",
              "    <tr>\n",
              "      <th>1234567</th>\n",
              "      <td>60</td>\n",
              "      <td>male</td>\n",
              "      <td>90</td>\n",
              "      <td>1</td>\n",
              "      <td>subtotal</td>\n",
              "      <td>1</td>\n",
              "      <td>300</td>\n",
              "      <td>1</td>\n",
              "    </tr>\n",
              "  </tbody>\n",
              "</table>\n",
              "</div>"
            ],
            "text/plain": [
              "         age     sex   PS  gene_mt       EOR  death  survival  test\n",
              "MRN                                                                \n",
              "1234571   63    male  100        1     total      1       280     5\n",
              "1234570   76    male   70        0   partial      1       320     4\n",
              "1234569   65  female   50        1    biopsy      0       400     3\n",
              "1234568   70  female   80        0     total      0       220     2\n",
              "1234567   60    male   90        1  subtotal      1       300     1"
            ]
          },
          "metadata": {
            "tags": []
          },
          "execution_count": 33
        }
      ]
    },
    {
      "cell_type": "code",
      "metadata": {
        "id": "tI4W-dznRMF9",
        "colab_type": "code",
        "outputId": "691ff0f1-8872-41d0-cee4-d3f5e2f58e91",
        "colab": {
          "base_uri": "https://localhost:8080/",
          "height": 34
        }
      },
      "source": [
        "# 3) using Boolean array\n",
        "only_female = gbm_df['sex'] == 'female'\n",
        "col_index = [True if 'e' in col else False for col in gbm_df.columns]\n",
        "\n",
        "gbm_df.loc[only_female, col_index]\n",
        "\n",
        "type(only_female)"
      ],
      "execution_count": 0,
      "outputs": [
        {
          "output_type": "execute_result",
          "data": {
            "text/plain": [
              "pandas.core.series.Series"
            ]
          },
          "metadata": {
            "tags": []
          },
          "execution_count": 119
        }
      ]
    },
    {
      "cell_type": "code",
      "metadata": {
        "id": "hVS0Xzd145js",
        "colab_type": "code",
        "outputId": "02110347-dd58-455a-c881-2f1778b118e8",
        "colab": {
          "base_uri": "https://localhost:8080/",
          "height": 235
        }
      },
      "source": [
        "gbm_df"
      ],
      "execution_count": 0,
      "outputs": [
        {
          "output_type": "execute_result",
          "data": {
            "text/html": [
              "<div>\n",
              "<style scoped>\n",
              "    .dataframe tbody tr th:only-of-type {\n",
              "        vertical-align: middle;\n",
              "    }\n",
              "\n",
              "    .dataframe tbody tr th {\n",
              "        vertical-align: top;\n",
              "    }\n",
              "\n",
              "    .dataframe thead th {\n",
              "        text-align: right;\n",
              "    }\n",
              "</style>\n",
              "<table border=\"1\" class=\"dataframe\">\n",
              "  <thead>\n",
              "    <tr style=\"text-align: right;\">\n",
              "      <th></th>\n",
              "      <th>age</th>\n",
              "      <th>sex</th>\n",
              "      <th>PS</th>\n",
              "      <th>gene_mt</th>\n",
              "      <th>EOR</th>\n",
              "      <th>death</th>\n",
              "      <th>survival</th>\n",
              "    </tr>\n",
              "    <tr>\n",
              "      <th>MRN</th>\n",
              "      <th></th>\n",
              "      <th></th>\n",
              "      <th></th>\n",
              "      <th></th>\n",
              "      <th></th>\n",
              "      <th></th>\n",
              "      <th></th>\n",
              "    </tr>\n",
              "  </thead>\n",
              "  <tbody>\n",
              "    <tr>\n",
              "      <th>1234567</th>\n",
              "      <td>60</td>\n",
              "      <td>male</td>\n",
              "      <td>90</td>\n",
              "      <td>1</td>\n",
              "      <td>subtotal</td>\n",
              "      <td>1</td>\n",
              "      <td>300</td>\n",
              "    </tr>\n",
              "    <tr>\n",
              "      <th>1234568</th>\n",
              "      <td>70</td>\n",
              "      <td>female</td>\n",
              "      <td>80</td>\n",
              "      <td>0</td>\n",
              "      <td>total</td>\n",
              "      <td>0</td>\n",
              "      <td>220</td>\n",
              "    </tr>\n",
              "    <tr>\n",
              "      <th>1234569</th>\n",
              "      <td>65</td>\n",
              "      <td>female</td>\n",
              "      <td>50</td>\n",
              "      <td>1</td>\n",
              "      <td>biopsy</td>\n",
              "      <td>0</td>\n",
              "      <td>400</td>\n",
              "    </tr>\n",
              "    <tr>\n",
              "      <th>1234570</th>\n",
              "      <td>76</td>\n",
              "      <td>male</td>\n",
              "      <td>70</td>\n",
              "      <td>0</td>\n",
              "      <td>partial</td>\n",
              "      <td>1</td>\n",
              "      <td>320</td>\n",
              "    </tr>\n",
              "    <tr>\n",
              "      <th>1234571</th>\n",
              "      <td>63</td>\n",
              "      <td>male</td>\n",
              "      <td>100</td>\n",
              "      <td>1</td>\n",
              "      <td>total</td>\n",
              "      <td>1</td>\n",
              "      <td>280</td>\n",
              "    </tr>\n",
              "  </tbody>\n",
              "</table>\n",
              "</div>"
            ],
            "text/plain": [
              "         age     sex   PS  gene_mt       EOR  death  survival\n",
              "MRN                                                          \n",
              "1234567   60    male   90        1  subtotal      1       300\n",
              "1234568   70  female   80        0     total      0       220\n",
              "1234569   65  female   50        1    biopsy      0       400\n",
              "1234570   76    male   70        0   partial      1       320\n",
              "1234571   63    male  100        1     total      1       280"
            ]
          },
          "metadata": {
            "tags": []
          },
          "execution_count": 112
        }
      ]
    },
    {
      "cell_type": "code",
      "metadata": {
        "id": "-MKvGdcVRN_t",
        "colab_type": "code",
        "outputId": "1e81f9ca-689a-4896-95f6-269af2c9a0ad",
        "colab": {
          "base_uri": "https://localhost:8080/",
          "height": 173
        }
      },
      "source": [
        "# .iloc: select by position\n",
        "# 1) without dimension\n",
        "\n",
        "# 2) with dimension (row and column)\n",
        "gbm_df.iloc[[1, 3, 4], ::-1]"
      ],
      "execution_count": 0,
      "outputs": [
        {
          "output_type": "execute_result",
          "data": {
            "text/html": [
              "<div>\n",
              "<style scoped>\n",
              "    .dataframe tbody tr th:only-of-type {\n",
              "        vertical-align: middle;\n",
              "    }\n",
              "\n",
              "    .dataframe tbody tr th {\n",
              "        vertical-align: top;\n",
              "    }\n",
              "\n",
              "    .dataframe thead th {\n",
              "        text-align: right;\n",
              "    }\n",
              "</style>\n",
              "<table border=\"1\" class=\"dataframe\">\n",
              "  <thead>\n",
              "    <tr style=\"text-align: right;\">\n",
              "      <th></th>\n",
              "      <th>survival</th>\n",
              "      <th>death</th>\n",
              "      <th>EOR</th>\n",
              "      <th>gene_mt</th>\n",
              "      <th>PS</th>\n",
              "      <th>sex</th>\n",
              "      <th>age</th>\n",
              "    </tr>\n",
              "    <tr>\n",
              "      <th>MRN</th>\n",
              "      <th></th>\n",
              "      <th></th>\n",
              "      <th></th>\n",
              "      <th></th>\n",
              "      <th></th>\n",
              "      <th></th>\n",
              "      <th></th>\n",
              "    </tr>\n",
              "  </thead>\n",
              "  <tbody>\n",
              "    <tr>\n",
              "      <th>1234568</th>\n",
              "      <td>220</td>\n",
              "      <td>0</td>\n",
              "      <td>total</td>\n",
              "      <td>0</td>\n",
              "      <td>80</td>\n",
              "      <td>female</td>\n",
              "      <td>70</td>\n",
              "    </tr>\n",
              "    <tr>\n",
              "      <th>1234570</th>\n",
              "      <td>320</td>\n",
              "      <td>1</td>\n",
              "      <td>partial</td>\n",
              "      <td>0</td>\n",
              "      <td>70</td>\n",
              "      <td>male</td>\n",
              "      <td>76</td>\n",
              "    </tr>\n",
              "    <tr>\n",
              "      <th>1234571</th>\n",
              "      <td>280</td>\n",
              "      <td>1</td>\n",
              "      <td>total</td>\n",
              "      <td>1</td>\n",
              "      <td>100</td>\n",
              "      <td>male</td>\n",
              "      <td>63</td>\n",
              "    </tr>\n",
              "  </tbody>\n",
              "</table>\n",
              "</div>"
            ],
            "text/plain": [
              "         survival  death      EOR  gene_mt   PS     sex  age\n",
              "MRN                                                         \n",
              "1234568       220      0    total        0   80  female   70\n",
              "1234570       320      1  partial        0   70    male   76\n",
              "1234571       280      1    total        1  100    male   63"
            ]
          },
          "metadata": {
            "tags": []
          },
          "execution_count": 118
        }
      ]
    },
    {
      "cell_type": "code",
      "metadata": {
        "id": "eF9douUJ6KWw",
        "colab_type": "code",
        "outputId": "eee1e414-e9ec-4dea-a68f-b56e25714ef5",
        "colab": {
          "base_uri": "https://localhost:8080/",
          "height": 142
        }
      },
      "source": [
        "gbm_df.iloc[only_female.values, ::-1]\n",
        "\n",
        "#only_female.values\n"
      ],
      "execution_count": 0,
      "outputs": [
        {
          "output_type": "execute_result",
          "data": {
            "text/html": [
              "<div>\n",
              "<style scoped>\n",
              "    .dataframe tbody tr th:only-of-type {\n",
              "        vertical-align: middle;\n",
              "    }\n",
              "\n",
              "    .dataframe tbody tr th {\n",
              "        vertical-align: top;\n",
              "    }\n",
              "\n",
              "    .dataframe thead th {\n",
              "        text-align: right;\n",
              "    }\n",
              "</style>\n",
              "<table border=\"1\" class=\"dataframe\">\n",
              "  <thead>\n",
              "    <tr style=\"text-align: right;\">\n",
              "      <th></th>\n",
              "      <th>survival</th>\n",
              "      <th>death</th>\n",
              "      <th>EOR</th>\n",
              "      <th>gene_mt</th>\n",
              "      <th>PS</th>\n",
              "      <th>sex</th>\n",
              "      <th>age</th>\n",
              "    </tr>\n",
              "    <tr>\n",
              "      <th>MRN</th>\n",
              "      <th></th>\n",
              "      <th></th>\n",
              "      <th></th>\n",
              "      <th></th>\n",
              "      <th></th>\n",
              "      <th></th>\n",
              "      <th></th>\n",
              "    </tr>\n",
              "  </thead>\n",
              "  <tbody>\n",
              "    <tr>\n",
              "      <th>1234568</th>\n",
              "      <td>220</td>\n",
              "      <td>0</td>\n",
              "      <td>total</td>\n",
              "      <td>0</td>\n",
              "      <td>80</td>\n",
              "      <td>female</td>\n",
              "      <td>70</td>\n",
              "    </tr>\n",
              "    <tr>\n",
              "      <th>1234569</th>\n",
              "      <td>400</td>\n",
              "      <td>0</td>\n",
              "      <td>biopsy</td>\n",
              "      <td>1</td>\n",
              "      <td>50</td>\n",
              "      <td>female</td>\n",
              "      <td>65</td>\n",
              "    </tr>\n",
              "  </tbody>\n",
              "</table>\n",
              "</div>"
            ],
            "text/plain": [
              "         survival  death     EOR  gene_mt  PS     sex  age\n",
              "MRN                                                       \n",
              "1234568       220      0   total        0  80  female   70\n",
              "1234569       400      0  biopsy        1  50  female   65"
            ]
          },
          "metadata": {
            "tags": []
          },
          "execution_count": 124
        }
      ]
    }
  ]
}