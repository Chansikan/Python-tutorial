{
 "cells": [
  {
   "cell_type": "code",
   "execution_count": null,
   "metadata": {},
   "outputs": [],
   "source": [
    "!pip install dicom2nifti"
   ]
  },
  {
   "cell_type": "code",
   "execution_count": null,
   "metadata": {},
   "outputs": [],
   "source": [
    "import os\n",
    "import dicom2nifti\n",
    "\n",
    "srcDir = \n",
    "outputDir = \n",
    "\n",
    "if not os.path.exists(outputDir):\n",
    "    os.makedirs(outputDir)\n",
    "\n",
    "for patient in os.listdir(srcDir):\n",
    "    patientDir = os.path.join(srcDir, patient)\n",
    "    \n",
    "    for series in os.listdir(patientDir):\n",
    "        seriesDir = os.path.join(patientDir, series)\n",
    "        outputFileName = patient + '_' + series + '.nii.gz' # eg) 123456_series_name.nii.gz\n",
    "        outputFileDir = os.path.join(outputDir, patient)\n",
    "        \n",
    "        if not os.path.exists(outputFileDir):\n",
    "            os.makedirs(outputFileDir)\n",
    "        \n",
    "        outputFilePath = os.path.join(outputFileDir, outputFileName)\n",
    "        \n",
    "        if os.path.exists(outputFilePath):\n",
    "            print('It appears that this series has already been converted: ', seriesDir)\n",
    "            continue\n",
    "\n",
    "        try:\n",
    "            dicom2nifti.dicom_series_to_nifti(seriesDir, outputFilePath, reorient_nifti=False)\n",
    "        except:\n",
    "            print(\"Converions failed for \", seriesDir)\n",
    "  "
   ]
  }
 ],
 "metadata": {
  "kernelspec": {
   "display_name": "Python 3",
   "language": "python",
   "name": "python3"
  },
  "language_info": {
   "codemirror_mode": {
    "name": "ipython",
    "version": 3
   },
   "file_extension": ".py",
   "mimetype": "text/x-python",
   "name": "python",
   "nbconvert_exporter": "python",
   "pygments_lexer": "ipython3",
   "version": "3.7.0"
  }
 },
 "nbformat": 4,
 "nbformat_minor": 2
}
